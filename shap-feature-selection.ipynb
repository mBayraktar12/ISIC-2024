{
 "cells": [
  {
   "cell_type": "code",
   "execution_count": 1,
   "id": "0748f439",
   "metadata": {
    "_cell_guid": "b1076dfc-b9ad-4769-8c92-a6c4dae69d19",
    "_uuid": "8f2839f25d086af736a60e9eeb907d3b93b6e0e5",
    "execution": {
     "iopub.execute_input": "2024-09-05T17:45:20.734354Z",
     "iopub.status.busy": "2024-09-05T17:45:20.733917Z",
     "iopub.status.idle": "2024-09-05T17:45:31.375837Z",
     "shell.execute_reply": "2024-09-05T17:45:31.374680Z"
    },
    "papermill": {
     "duration": 10.653719,
     "end_time": "2024-09-05T17:45:31.378687",
     "exception": false,
     "start_time": "2024-09-05T17:45:20.724968",
     "status": "completed"
    },
    "tags": []
   },
   "outputs": [],
   "source": [
    "import os\n",
    "from pathlib import Path\n",
    "\n",
    "import numpy as np\n",
    "import pandas as pd\n",
    "import polars as pl\n",
    "\n",
    "import math\n",
    "from scipy.stats import zscore\n",
    "from numpy import nanmean, nanstd\n",
    "\n",
    "\n",
    "from sklearn.model_selection import StratifiedGroupKFold\n",
    "from sklearn.model_selection import cross_val_score\n",
    "from sklearn.preprocessing import OneHotEncoder\n",
    "from sklearn.preprocessing import OrdinalEncoder\n",
    "\n",
    "\n",
    "from sklearn.metrics import roc_auc_score\n",
    "from sklearn.ensemble import VotingClassifier\n",
    "\n",
    "from imblearn.under_sampling import RandomUnderSampler\n",
    "from sklearn.compose import ColumnTransformer\n",
    "from imblearn.pipeline import Pipeline\n",
    "\n",
    "import lightgbm as lgb\n",
    "import catboost as cb\n",
    "import xgboost as xgb\n",
    "\n",
    "import itertools\n",
    "\n",
    "import shap\n",
    "import pickle\n",
    "\n",
    "from joblib import Parallel, delayed\n",
    "from concurrent.futures import ThreadPoolExecutor\n",
    "\n",
    "\n",
    "\n",
    "pd.set_option('display.max_rows', 500)\n",
    "pd.set_option('display.max_columns', 500)\n",
    "\n",
    "import torch\n",
    "\n",
    "import optuna"
   ]
  },
  {
   "cell_type": "code",
   "execution_count": 2,
   "id": "c426ca0a",
   "metadata": {
    "execution": {
     "iopub.execute_input": "2024-09-05T17:45:31.395006Z",
     "iopub.status.busy": "2024-09-05T17:45:31.394021Z",
     "iopub.status.idle": "2024-09-05T17:45:31.399067Z",
     "shell.execute_reply": "2024-09-05T17:45:31.397931Z"
    },
    "papermill": {
     "duration": 0.01562,
     "end_time": "2024-09-05T17:45:31.401365",
     "exception": false,
     "start_time": "2024-09-05T17:45:31.385745",
     "status": "completed"
    },
    "tags": []
   },
   "outputs": [],
   "source": [
    "SHAP_LGB = False\n",
    "SHAP_CB = False\n",
    "SHAP_XGB = True"
   ]
  },
  {
   "cell_type": "code",
   "execution_count": 3,
   "id": "c52b000a",
   "metadata": {
    "execution": {
     "iopub.execute_input": "2024-09-05T17:45:31.416653Z",
     "iopub.status.busy": "2024-09-05T17:45:31.416258Z",
     "iopub.status.idle": "2024-09-05T17:45:31.426265Z",
     "shell.execute_reply": "2024-09-05T17:45:31.425131Z"
    },
    "papermill": {
     "duration": 0.020489,
     "end_time": "2024-09-05T17:45:31.428693",
     "exception": false,
     "start_time": "2024-09-05T17:45:31.408204",
     "status": "completed"
    },
    "tags": []
   },
   "outputs": [],
   "source": [
    "def set_seed(seed=42):\n",
    "    '''Sets the seed of the entire notebook so results are the same every time we run.\n",
    "    This is for REPRODUCIBILITY.'''\n",
    "    np.random.seed(seed)\n",
    "    torch.manual_seed(seed)\n",
    "    torch.cuda.manual_seed(seed)\n",
    "    # When running on the CuDNN backend, two further options must be set\n",
    "    torch.backends.cudnn.deterministic = True\n",
    "    torch.backends.cudnn.benchmark = False\n",
    "    # Set a fixed value for the hash seed\n",
    "    os.environ['PYTHONHASHSEED'] = str(seed)\n",
    "    \n",
    "set_seed(42)"
   ]
  },
  {
   "cell_type": "code",
   "execution_count": 4,
   "id": "eabddfc2",
   "metadata": {
    "execution": {
     "iopub.execute_input": "2024-09-05T17:45:31.444572Z",
     "iopub.status.busy": "2024-09-05T17:45:31.444148Z",
     "iopub.status.idle": "2024-09-05T17:45:39.920050Z",
     "shell.execute_reply": "2024-09-05T17:45:39.918670Z"
    },
    "papermill": {
     "duration": 8.486677,
     "end_time": "2024-09-05T17:45:39.922799",
     "exception": false,
     "start_time": "2024-09-05T17:45:31.436122",
     "status": "completed"
    },
    "tags": []
   },
   "outputs": [
    {
     "name": "stderr",
     "output_type": "stream",
     "text": [
      "Columns (51,52) have mixed types. Specify dtype option on import or set low_memory=False.\n"
     ]
    },
    {
     "data": {
      "text/html": [
       "<div>\n",
       "<style scoped>\n",
       "    .dataframe tbody tr th:only-of-type {\n",
       "        vertical-align: middle;\n",
       "    }\n",
       "\n",
       "    .dataframe tbody tr th {\n",
       "        vertical-align: top;\n",
       "    }\n",
       "\n",
       "    .dataframe thead th {\n",
       "        text-align: right;\n",
       "    }\n",
       "</style>\n",
       "<table border=\"1\" class=\"dataframe\">\n",
       "  <thead>\n",
       "    <tr style=\"text-align: right;\">\n",
       "      <th></th>\n",
       "      <th>isic_id</th>\n",
       "      <th>target</th>\n",
       "      <th>patient_id</th>\n",
       "      <th>age_approx</th>\n",
       "      <th>sex</th>\n",
       "      <th>anatom_site_general</th>\n",
       "      <th>clin_size_long_diam_mm</th>\n",
       "      <th>image_type</th>\n",
       "      <th>tbp_tile_type</th>\n",
       "      <th>tbp_lv_A</th>\n",
       "      <th>tbp_lv_Aext</th>\n",
       "      <th>tbp_lv_B</th>\n",
       "      <th>tbp_lv_Bext</th>\n",
       "      <th>tbp_lv_C</th>\n",
       "      <th>tbp_lv_Cext</th>\n",
       "      <th>tbp_lv_H</th>\n",
       "      <th>tbp_lv_Hext</th>\n",
       "      <th>tbp_lv_L</th>\n",
       "      <th>tbp_lv_Lext</th>\n",
       "      <th>tbp_lv_areaMM2</th>\n",
       "      <th>tbp_lv_area_perim_ratio</th>\n",
       "      <th>tbp_lv_color_std_mean</th>\n",
       "      <th>tbp_lv_deltaA</th>\n",
       "      <th>tbp_lv_deltaB</th>\n",
       "      <th>tbp_lv_deltaL</th>\n",
       "      <th>tbp_lv_deltaLB</th>\n",
       "      <th>tbp_lv_deltaLBnorm</th>\n",
       "      <th>tbp_lv_eccentricity</th>\n",
       "      <th>tbp_lv_location</th>\n",
       "      <th>tbp_lv_location_simple</th>\n",
       "      <th>tbp_lv_minorAxisMM</th>\n",
       "      <th>tbp_lv_nevi_confidence</th>\n",
       "      <th>tbp_lv_norm_border</th>\n",
       "      <th>tbp_lv_norm_color</th>\n",
       "      <th>tbp_lv_perimeterMM</th>\n",
       "      <th>tbp_lv_radial_color_std_max</th>\n",
       "      <th>tbp_lv_stdL</th>\n",
       "      <th>tbp_lv_stdLExt</th>\n",
       "      <th>tbp_lv_symm_2axis</th>\n",
       "      <th>tbp_lv_symm_2axis_angle</th>\n",
       "      <th>tbp_lv_x</th>\n",
       "      <th>tbp_lv_y</th>\n",
       "      <th>tbp_lv_z</th>\n",
       "      <th>attribution</th>\n",
       "      <th>copyright_license</th>\n",
       "      <th>lesion_id</th>\n",
       "      <th>iddx_full</th>\n",
       "      <th>iddx_1</th>\n",
       "      <th>iddx_2</th>\n",
       "      <th>iddx_3</th>\n",
       "      <th>iddx_4</th>\n",
       "      <th>iddx_5</th>\n",
       "      <th>mel_mitotic_index</th>\n",
       "      <th>mel_thick_mm</th>\n",
       "      <th>tbp_lv_dnn_lesion_confidence</th>\n",
       "    </tr>\n",
       "  </thead>\n",
       "  <tbody>\n",
       "    <tr>\n",
       "      <th>0</th>\n",
       "      <td>ISIC_0015670</td>\n",
       "      <td>0</td>\n",
       "      <td>IP_1235828</td>\n",
       "      <td>60.0</td>\n",
       "      <td>male</td>\n",
       "      <td>lower extremity</td>\n",
       "      <td>3.04</td>\n",
       "      <td>TBP tile: close-up</td>\n",
       "      <td>3D: white</td>\n",
       "      <td>20.244422</td>\n",
       "      <td>16.261975</td>\n",
       "      <td>26.922447</td>\n",
       "      <td>23.954773</td>\n",
       "      <td>33.684638</td>\n",
       "      <td>28.953117</td>\n",
       "      <td>53.058545</td>\n",
       "      <td>55.828924</td>\n",
       "      <td>54.367448</td>\n",
       "      <td>62.025701</td>\n",
       "      <td>3.152561</td>\n",
       "      <td>27.476170</td>\n",
       "      <td>0.00000</td>\n",
       "      <td>3.982447</td>\n",
       "      <td>2.967674</td>\n",
       "      <td>-7.658253</td>\n",
       "      <td>8.360566</td>\n",
       "      <td>5.784302</td>\n",
       "      <td>0.901302</td>\n",
       "      <td>Right Leg - Upper</td>\n",
       "      <td>Right Leg</td>\n",
       "      <td>1.543016</td>\n",
       "      <td>2.628592e-03</td>\n",
       "      <td>7.091360</td>\n",
       "      <td>0.000000</td>\n",
       "      <td>9.307003</td>\n",
       "      <td>0.00000</td>\n",
       "      <td>2.036195</td>\n",
       "      <td>2.637780</td>\n",
       "      <td>0.590476</td>\n",
       "      <td>85</td>\n",
       "      <td>-182.703552</td>\n",
       "      <td>613.493652</td>\n",
       "      <td>-42.427948</td>\n",
       "      <td>Memorial Sloan Kettering Cancer Center</td>\n",
       "      <td>CC-BY</td>\n",
       "      <td>NaN</td>\n",
       "      <td>Benign</td>\n",
       "      <td>Benign</td>\n",
       "      <td>NaN</td>\n",
       "      <td>NaN</td>\n",
       "      <td>NaN</td>\n",
       "      <td>NaN</td>\n",
       "      <td>NaN</td>\n",
       "      <td>NaN</td>\n",
       "      <td>97.517282</td>\n",
       "    </tr>\n",
       "    <tr>\n",
       "      <th>1</th>\n",
       "      <td>ISIC_0015845</td>\n",
       "      <td>0</td>\n",
       "      <td>IP_8170065</td>\n",
       "      <td>60.0</td>\n",
       "      <td>male</td>\n",
       "      <td>head/neck</td>\n",
       "      <td>1.10</td>\n",
       "      <td>TBP tile: close-up</td>\n",
       "      <td>3D: white</td>\n",
       "      <td>31.712570</td>\n",
       "      <td>25.364740</td>\n",
       "      <td>26.331000</td>\n",
       "      <td>24.549290</td>\n",
       "      <td>41.219030</td>\n",
       "      <td>35.299260</td>\n",
       "      <td>39.702910</td>\n",
       "      <td>44.064040</td>\n",
       "      <td>48.861520</td>\n",
       "      <td>55.362360</td>\n",
       "      <td>0.919497</td>\n",
       "      <td>12.235290</td>\n",
       "      <td>0.00000</td>\n",
       "      <td>6.347830</td>\n",
       "      <td>1.781713</td>\n",
       "      <td>-6.500838</td>\n",
       "      <td>6.839008</td>\n",
       "      <td>4.987244</td>\n",
       "      <td>0.639885</td>\n",
       "      <td>Head &amp; Neck</td>\n",
       "      <td>Head &amp; Neck</td>\n",
       "      <td>0.821918</td>\n",
       "      <td>1.334303e-07</td>\n",
       "      <td>2.116402</td>\n",
       "      <td>0.000000</td>\n",
       "      <td>3.354148</td>\n",
       "      <td>0.00000</td>\n",
       "      <td>0.853227</td>\n",
       "      <td>3.912844</td>\n",
       "      <td>0.285714</td>\n",
       "      <td>55</td>\n",
       "      <td>-0.078308</td>\n",
       "      <td>1575.687000</td>\n",
       "      <td>57.174500</td>\n",
       "      <td>Memorial Sloan Kettering Cancer Center</td>\n",
       "      <td>CC-BY</td>\n",
       "      <td>IL_6727506</td>\n",
       "      <td>Benign</td>\n",
       "      <td>Benign</td>\n",
       "      <td>NaN</td>\n",
       "      <td>NaN</td>\n",
       "      <td>NaN</td>\n",
       "      <td>NaN</td>\n",
       "      <td>NaN</td>\n",
       "      <td>NaN</td>\n",
       "      <td>3.141455</td>\n",
       "    </tr>\n",
       "    <tr>\n",
       "      <th>2</th>\n",
       "      <td>ISIC_0015864</td>\n",
       "      <td>0</td>\n",
       "      <td>IP_6724798</td>\n",
       "      <td>60.0</td>\n",
       "      <td>male</td>\n",
       "      <td>posterior torso</td>\n",
       "      <td>3.40</td>\n",
       "      <td>TBP tile: close-up</td>\n",
       "      <td>3D: XP</td>\n",
       "      <td>22.575830</td>\n",
       "      <td>17.128170</td>\n",
       "      <td>37.970460</td>\n",
       "      <td>33.485410</td>\n",
       "      <td>44.174920</td>\n",
       "      <td>37.611800</td>\n",
       "      <td>59.265850</td>\n",
       "      <td>62.909730</td>\n",
       "      <td>53.961180</td>\n",
       "      <td>61.670520</td>\n",
       "      <td>3.265153</td>\n",
       "      <td>24.184620</td>\n",
       "      <td>0.00000</td>\n",
       "      <td>5.447655</td>\n",
       "      <td>4.485044</td>\n",
       "      <td>-7.709336</td>\n",
       "      <td>9.092376</td>\n",
       "      <td>6.290359</td>\n",
       "      <td>0.932147</td>\n",
       "      <td>Torso Back Top Third</td>\n",
       "      <td>Torso Back</td>\n",
       "      <td>1.194905</td>\n",
       "      <td>2.959177e-04</td>\n",
       "      <td>4.798335</td>\n",
       "      <td>0.000000</td>\n",
       "      <td>8.886309</td>\n",
       "      <td>0.00000</td>\n",
       "      <td>1.743651</td>\n",
       "      <td>1.950777</td>\n",
       "      <td>0.361905</td>\n",
       "      <td>105</td>\n",
       "      <td>123.649700</td>\n",
       "      <td>1472.010000</td>\n",
       "      <td>232.908900</td>\n",
       "      <td>Memorial Sloan Kettering Cancer Center</td>\n",
       "      <td>CC-BY</td>\n",
       "      <td>NaN</td>\n",
       "      <td>Benign</td>\n",
       "      <td>Benign</td>\n",
       "      <td>NaN</td>\n",
       "      <td>NaN</td>\n",
       "      <td>NaN</td>\n",
       "      <td>NaN</td>\n",
       "      <td>NaN</td>\n",
       "      <td>NaN</td>\n",
       "      <td>99.804040</td>\n",
       "    </tr>\n",
       "    <tr>\n",
       "      <th>3</th>\n",
       "      <td>ISIC_0015902</td>\n",
       "      <td>0</td>\n",
       "      <td>IP_4111386</td>\n",
       "      <td>65.0</td>\n",
       "      <td>male</td>\n",
       "      <td>anterior torso</td>\n",
       "      <td>3.22</td>\n",
       "      <td>TBP tile: close-up</td>\n",
       "      <td>3D: XP</td>\n",
       "      <td>14.242329</td>\n",
       "      <td>12.164757</td>\n",
       "      <td>21.448144</td>\n",
       "      <td>21.121356</td>\n",
       "      <td>25.746200</td>\n",
       "      <td>24.374023</td>\n",
       "      <td>56.414429</td>\n",
       "      <td>60.060388</td>\n",
       "      <td>18.649518</td>\n",
       "      <td>23.314841</td>\n",
       "      <td>6.079940</td>\n",
       "      <td>14.889242</td>\n",
       "      <td>0.51452</td>\n",
       "      <td>2.077572</td>\n",
       "      <td>0.326788</td>\n",
       "      <td>-4.665323</td>\n",
       "      <td>4.783413</td>\n",
       "      <td>6.400196</td>\n",
       "      <td>0.654458</td>\n",
       "      <td>Torso Front Top Half</td>\n",
       "      <td>Torso Front</td>\n",
       "      <td>2.481328</td>\n",
       "      <td>2.198945e+01</td>\n",
       "      <td>1.975874</td>\n",
       "      <td>1.771705</td>\n",
       "      <td>9.514499</td>\n",
       "      <td>0.66469</td>\n",
       "      <td>1.258541</td>\n",
       "      <td>1.573733</td>\n",
       "      <td>0.209581</td>\n",
       "      <td>130</td>\n",
       "      <td>-141.024780</td>\n",
       "      <td>1442.185791</td>\n",
       "      <td>58.359802</td>\n",
       "      <td>ACEMID MIA</td>\n",
       "      <td>CC-0</td>\n",
       "      <td>NaN</td>\n",
       "      <td>Benign</td>\n",
       "      <td>Benign</td>\n",
       "      <td>NaN</td>\n",
       "      <td>NaN</td>\n",
       "      <td>NaN</td>\n",
       "      <td>NaN</td>\n",
       "      <td>NaN</td>\n",
       "      <td>NaN</td>\n",
       "      <td>99.989998</td>\n",
       "    </tr>\n",
       "    <tr>\n",
       "      <th>4</th>\n",
       "      <td>ISIC_0024200</td>\n",
       "      <td>0</td>\n",
       "      <td>IP_8313778</td>\n",
       "      <td>55.0</td>\n",
       "      <td>male</td>\n",
       "      <td>anterior torso</td>\n",
       "      <td>2.73</td>\n",
       "      <td>TBP tile: close-up</td>\n",
       "      <td>3D: white</td>\n",
       "      <td>24.725520</td>\n",
       "      <td>20.057470</td>\n",
       "      <td>26.464900</td>\n",
       "      <td>25.710460</td>\n",
       "      <td>36.217980</td>\n",
       "      <td>32.608740</td>\n",
       "      <td>46.946070</td>\n",
       "      <td>52.041180</td>\n",
       "      <td>46.276310</td>\n",
       "      <td>54.855740</td>\n",
       "      <td>2.101708</td>\n",
       "      <td>19.902560</td>\n",
       "      <td>0.00000</td>\n",
       "      <td>4.668053</td>\n",
       "      <td>0.754434</td>\n",
       "      <td>-8.579431</td>\n",
       "      <td>9.148495</td>\n",
       "      <td>6.531302</td>\n",
       "      <td>0.946448</td>\n",
       "      <td>Torso Front Top Half</td>\n",
       "      <td>Torso Front</td>\n",
       "      <td>0.929916</td>\n",
       "      <td>1.378832e-03</td>\n",
       "      <td>3.658854</td>\n",
       "      <td>0.000000</td>\n",
       "      <td>6.467562</td>\n",
       "      <td>0.00000</td>\n",
       "      <td>2.085409</td>\n",
       "      <td>2.480509</td>\n",
       "      <td>0.313433</td>\n",
       "      <td>20</td>\n",
       "      <td>-72.315640</td>\n",
       "      <td>1488.720000</td>\n",
       "      <td>21.428960</td>\n",
       "      <td>Memorial Sloan Kettering Cancer Center</td>\n",
       "      <td>CC-BY</td>\n",
       "      <td>NaN</td>\n",
       "      <td>Benign</td>\n",
       "      <td>Benign</td>\n",
       "      <td>NaN</td>\n",
       "      <td>NaN</td>\n",
       "      <td>NaN</td>\n",
       "      <td>NaN</td>\n",
       "      <td>NaN</td>\n",
       "      <td>NaN</td>\n",
       "      <td>70.442510</td>\n",
       "    </tr>\n",
       "  </tbody>\n",
       "</table>\n",
       "</div>"
      ],
      "text/plain": [
       "        isic_id  target  patient_id  age_approx   sex anatom_site_general  \\\n",
       "0  ISIC_0015670       0  IP_1235828        60.0  male     lower extremity   \n",
       "1  ISIC_0015845       0  IP_8170065        60.0  male           head/neck   \n",
       "2  ISIC_0015864       0  IP_6724798        60.0  male     posterior torso   \n",
       "3  ISIC_0015902       0  IP_4111386        65.0  male      anterior torso   \n",
       "4  ISIC_0024200       0  IP_8313778        55.0  male      anterior torso   \n",
       "\n",
       "   clin_size_long_diam_mm          image_type tbp_tile_type   tbp_lv_A  \\\n",
       "0                    3.04  TBP tile: close-up     3D: white  20.244422   \n",
       "1                    1.10  TBP tile: close-up     3D: white  31.712570   \n",
       "2                    3.40  TBP tile: close-up        3D: XP  22.575830   \n",
       "3                    3.22  TBP tile: close-up        3D: XP  14.242329   \n",
       "4                    2.73  TBP tile: close-up     3D: white  24.725520   \n",
       "\n",
       "   tbp_lv_Aext   tbp_lv_B  tbp_lv_Bext   tbp_lv_C  tbp_lv_Cext   tbp_lv_H  \\\n",
       "0    16.261975  26.922447    23.954773  33.684638    28.953117  53.058545   \n",
       "1    25.364740  26.331000    24.549290  41.219030    35.299260  39.702910   \n",
       "2    17.128170  37.970460    33.485410  44.174920    37.611800  59.265850   \n",
       "3    12.164757  21.448144    21.121356  25.746200    24.374023  56.414429   \n",
       "4    20.057470  26.464900    25.710460  36.217980    32.608740  46.946070   \n",
       "\n",
       "   tbp_lv_Hext   tbp_lv_L  tbp_lv_Lext  tbp_lv_areaMM2  \\\n",
       "0    55.828924  54.367448    62.025701        3.152561   \n",
       "1    44.064040  48.861520    55.362360        0.919497   \n",
       "2    62.909730  53.961180    61.670520        3.265153   \n",
       "3    60.060388  18.649518    23.314841        6.079940   \n",
       "4    52.041180  46.276310    54.855740        2.101708   \n",
       "\n",
       "   tbp_lv_area_perim_ratio  tbp_lv_color_std_mean  tbp_lv_deltaA  \\\n",
       "0                27.476170                0.00000       3.982447   \n",
       "1                12.235290                0.00000       6.347830   \n",
       "2                24.184620                0.00000       5.447655   \n",
       "3                14.889242                0.51452       2.077572   \n",
       "4                19.902560                0.00000       4.668053   \n",
       "\n",
       "   tbp_lv_deltaB  tbp_lv_deltaL  tbp_lv_deltaLB  tbp_lv_deltaLBnorm  \\\n",
       "0       2.967674      -7.658253        8.360566            5.784302   \n",
       "1       1.781713      -6.500838        6.839008            4.987244   \n",
       "2       4.485044      -7.709336        9.092376            6.290359   \n",
       "3       0.326788      -4.665323        4.783413            6.400196   \n",
       "4       0.754434      -8.579431        9.148495            6.531302   \n",
       "\n",
       "   tbp_lv_eccentricity       tbp_lv_location tbp_lv_location_simple  \\\n",
       "0             0.901302     Right Leg - Upper              Right Leg   \n",
       "1             0.639885           Head & Neck            Head & Neck   \n",
       "2             0.932147  Torso Back Top Third             Torso Back   \n",
       "3             0.654458  Torso Front Top Half            Torso Front   \n",
       "4             0.946448  Torso Front Top Half            Torso Front   \n",
       "\n",
       "   tbp_lv_minorAxisMM  tbp_lv_nevi_confidence  tbp_lv_norm_border  \\\n",
       "0            1.543016            2.628592e-03            7.091360   \n",
       "1            0.821918            1.334303e-07            2.116402   \n",
       "2            1.194905            2.959177e-04            4.798335   \n",
       "3            2.481328            2.198945e+01            1.975874   \n",
       "4            0.929916            1.378832e-03            3.658854   \n",
       "\n",
       "   tbp_lv_norm_color  tbp_lv_perimeterMM  tbp_lv_radial_color_std_max  \\\n",
       "0           0.000000            9.307003                      0.00000   \n",
       "1           0.000000            3.354148                      0.00000   \n",
       "2           0.000000            8.886309                      0.00000   \n",
       "3           1.771705            9.514499                      0.66469   \n",
       "4           0.000000            6.467562                      0.00000   \n",
       "\n",
       "   tbp_lv_stdL  tbp_lv_stdLExt  tbp_lv_symm_2axis  tbp_lv_symm_2axis_angle  \\\n",
       "0     2.036195        2.637780           0.590476                       85   \n",
       "1     0.853227        3.912844           0.285714                       55   \n",
       "2     1.743651        1.950777           0.361905                      105   \n",
       "3     1.258541        1.573733           0.209581                      130   \n",
       "4     2.085409        2.480509           0.313433                       20   \n",
       "\n",
       "     tbp_lv_x     tbp_lv_y    tbp_lv_z  \\\n",
       "0 -182.703552   613.493652  -42.427948   \n",
       "1   -0.078308  1575.687000   57.174500   \n",
       "2  123.649700  1472.010000  232.908900   \n",
       "3 -141.024780  1442.185791   58.359802   \n",
       "4  -72.315640  1488.720000   21.428960   \n",
       "\n",
       "                              attribution copyright_license   lesion_id  \\\n",
       "0  Memorial Sloan Kettering Cancer Center             CC-BY         NaN   \n",
       "1  Memorial Sloan Kettering Cancer Center             CC-BY  IL_6727506   \n",
       "2  Memorial Sloan Kettering Cancer Center             CC-BY         NaN   \n",
       "3                              ACEMID MIA              CC-0         NaN   \n",
       "4  Memorial Sloan Kettering Cancer Center             CC-BY         NaN   \n",
       "\n",
       "  iddx_full  iddx_1 iddx_2 iddx_3 iddx_4 iddx_5 mel_mitotic_index  \\\n",
       "0    Benign  Benign    NaN    NaN    NaN    NaN               NaN   \n",
       "1    Benign  Benign    NaN    NaN    NaN    NaN               NaN   \n",
       "2    Benign  Benign    NaN    NaN    NaN    NaN               NaN   \n",
       "3    Benign  Benign    NaN    NaN    NaN    NaN               NaN   \n",
       "4    Benign  Benign    NaN    NaN    NaN    NaN               NaN   \n",
       "\n",
       "   mel_thick_mm  tbp_lv_dnn_lesion_confidence  \n",
       "0           NaN                     97.517282  \n",
       "1           NaN                      3.141455  \n",
       "2           NaN                     99.804040  \n",
       "3           NaN                     99.989998  \n",
       "4           NaN                     70.442510  "
      ]
     },
     "execution_count": 4,
     "metadata": {},
     "output_type": "execute_result"
    }
   ],
   "source": [
    "df_train = pd.read_csv('/kaggle/input/isic-2024-challenge/train-metadata.csv')\n",
    "df_train.head()"
   ]
  },
  {
   "cell_type": "code",
   "execution_count": 5,
   "id": "59f2443a",
   "metadata": {
    "execution": {
     "iopub.execute_input": "2024-09-05T17:45:39.940227Z",
     "iopub.status.busy": "2024-09-05T17:45:39.939747Z",
     "iopub.status.idle": "2024-09-05T17:45:39.944781Z",
     "shell.execute_reply": "2024-09-05T17:45:39.943422Z"
    },
    "papermill": {
     "duration": 0.01662,
     "end_time": "2024-09-05T17:45:39.947231",
     "exception": false,
     "start_time": "2024-09-05T17:45:39.930611",
     "status": "completed"
    },
    "tags": []
   },
   "outputs": [],
   "source": [
    "# !python /kaggle/input/script-5-fold-effnetv1b0/main.py\n",
    "# !mv submission.csv submission_effnetv1b0_oof.csv"
   ]
  },
  {
   "cell_type": "code",
   "execution_count": 6,
   "id": "7da059b0",
   "metadata": {
    "execution": {
     "iopub.execute_input": "2024-09-05T17:45:39.965879Z",
     "iopub.status.busy": "2024-09-05T17:45:39.965450Z",
     "iopub.status.idle": "2024-09-05T17:45:39.981475Z",
     "shell.execute_reply": "2024-09-05T17:45:39.980233Z"
    },
    "papermill": {
     "duration": 0.028485,
     "end_time": "2024-09-05T17:45:39.984124",
     "exception": false,
     "start_time": "2024-09-05T17:45:39.955639",
     "status": "completed"
    },
    "tags": []
   },
   "outputs": [],
   "source": [
    "root = Path('/kaggle/input/isic-2024-challenge')\n",
    "\n",
    "train_path = root / 'train-metadata.csv'\n",
    "test_path = root / 'test-metadata.csv'\n",
    "subm_path = root / 'sample_submission.csv'\n",
    "\n",
    "id_col = 'isic_id'\n",
    "target_col = 'target'\n",
    "group_col = 'patient_id'\n",
    "\n",
    "err = 1e-5\n",
    "sampling_ratio = 0.01\n",
    "seed = 42\n",
    "\n",
    "do_ud = True\n",
    "\n",
    "\n",
    "num_cols = [\n",
    "    'age_approx',                        # Approximate age of patient at time of imaging.\n",
    "    'clin_size_long_diam_mm',            # Maximum diameter of the lesion (mm).+\n",
    "    'tbp_lv_A',                          # A inside  lesion.+\n",
    "    'tbp_lv_Aext',                       # A outside lesion.+\n",
    "    'tbp_lv_B',                          # B inside  lesion.+\n",
    "    'tbp_lv_Bext',                       # B outside lesion.+ \n",
    "    'tbp_lv_C',                          # Chroma inside  lesion.+\n",
    "    'tbp_lv_Cext',                       # Chroma outside lesion.+\n",
    "    'tbp_lv_H',                          # Hue inside the lesion; calculated as the angle of A* and B* in LAB* color space. Typical values range from 25 (red) to 75 (brown).+\n",
    "    'tbp_lv_Hext',                       # Hue outside lesion.+\n",
    "    'tbp_lv_L',                          # L inside lesion.+\n",
    "    'tbp_lv_Lext',                       # L outside lesion.+\n",
    "    'tbp_lv_areaMM2',                    # Area of lesion (mm^2).+\n",
    "    'tbp_lv_area_perim_ratio',           # Border jaggedness, the ratio between lesions perimeter and area. Circular lesions will have low values; irregular shaped lesions will have higher values. Values range 0-10.+\n",
    "    'tbp_lv_color_std_mean',             # Color irregularity, calculated as the variance of colors within the lesion's boundary.\n",
    "    'tbp_lv_deltaA',                     # Average A contrast (inside vs. outside lesion).+\n",
    "    'tbp_lv_deltaB',                     # Average B contrast (inside vs. outside lesion).+\n",
    "    'tbp_lv_deltaL',                     # Average L contrast (inside vs. outside lesion).+\n",
    "    'tbp_lv_deltaLB',                    #\n",
    "    'tbp_lv_deltaLBnorm',                # Contrast between the lesion and its immediate surrounding skin. Low contrast lesions tend to be faintly visible such as freckles; high contrast lesions tend to be those with darker pigment. Calculated as the average delta LB of the lesion relative to its immediate background in LAB* color space. Typical values range from 5.5 to 25.+\n",
    "    'tbp_lv_eccentricity',               # Eccentricity.+\n",
    "    'tbp_lv_minorAxisMM',                # Smallest lesion diameter (mm).+\n",
    "    'tbp_lv_nevi_confidence',            # Nevus confidence score (0-100 scale) is a convolutional neural network classifier estimated probability that the lesion is a nevus. The neural network was trained on approximately 57,000 lesions that were classified and labeled by a dermatologist.+,++\n",
    "    'tbp_lv_norm_border',                # Border irregularity (0-10 scale); the normalized average of border jaggedness and asymmetry.+\n",
    "    'tbp_lv_norm_color',                 # Color variation (0-10 scale); the normalized average of color asymmetry and color irregularity.+\n",
    "    'tbp_lv_perimeterMM',                # Perimeter of lesion (mm).+\n",
    "    'tbp_lv_radial_color_std_max',       # Color asymmetry, a measure of asymmetry of the spatial distribution of color within the lesion. This score is calculated by looking at the average standard deviation in LAB* color space within concentric rings originating from the lesion center. Values range 0-10.+\n",
    "    'tbp_lv_stdL',                       # Standard deviation of L inside  lesion.+\n",
    "    'tbp_lv_stdLExt',                    # Standard deviation of L outside lesion.+\n",
    "    'tbp_lv_symm_2axis',                 # Border asymmetry; a measure of asymmetry of the lesion's contour about an axis perpendicular to the lesion's most symmetric axis. Lesions with two axes of symmetry will therefore have low scores (more symmetric), while lesions with only one or zero axes of symmetry will have higher scores (less symmetric). This score is calculated by comparing opposite halves of the lesion contour over many degrees of rotation. The angle where the halves are most similar identifies the principal axis of symmetry, while the second axis of symmetry is perpendicular to the principal axis. Border asymmetry is reported as the asymmetry value about this second axis. Values range 0-10.+\n",
    "    'tbp_lv_symm_2axis_angle',           # Lesion border asymmetry angle.+\n",
    "    'tbp_lv_x',                          # X-coordinate of the lesion on 3D TBP.+\n",
    "    'tbp_lv_y',                          # Y-coordinate of the lesion on 3D TBP.+\n",
    "    'tbp_lv_z',                          # Z-coordinate of the lesion on 3D TBP.+\n",
    "]\n",
    "\n",
    "new_num_cols = [\n",
    "    'lesion_size_ratio',             # tbp_lv_minorAxisMM      / clin_size_long_diam_mm\n",
    "    'lesion_shape_index',            # tbp_lv_areaMM2          / tbp_lv_perimeterMM **2\n",
    "    'hue_contrast',                  # tbp_lv_H                - tbp_lv_Hext              abs\n",
    "    'luminance_contrast',            # tbp_lv_L                - tbp_lv_Lext              abs\n",
    "    'lesion_color_difference',       # tbp_lv_deltaA **2       + tbp_lv_deltaB **2 + tbp_lv_deltaL **2  sqrt  \n",
    "    'border_complexity',             # tbp_lv_norm_border      + tbp_lv_symm_2axis\n",
    "    'color_uniformity',              # tbp_lv_color_std_mean   / tbp_lv_radial_color_std_max\n",
    "\n",
    "    'position_distance_3d',          # tbp_lv_x **2 + tbp_lv_y **2 + tbp_lv_z **2  sqrt\n",
    "    'perimeter_to_area_ratio',       # tbp_lv_perimeterMM      / tbp_lv_areaMM2\n",
    "    'area_to_perimeter_ratio',       # tbp_lv_areaMM2          / tbp_lv_perimeterMM\n",
    "    'lesion_visibility_score',       # tbp_lv_deltaLBnorm      + tbp_lv_norm_color\n",
    "    'symmetry_border_consistency',   # tbp_lv_symm_2axis       * tbp_lv_norm_border\n",
    "    'consistency_symmetry_border',   # tbp_lv_symm_2axis       * tbp_lv_norm_border / (tbp_lv_symm_2axis + tbp_lv_norm_border)\n",
    "\n",
    "    'color_consistency',             # tbp_lv_stdL             / tbp_lv_Lext\n",
    "    'consistency_color',             # tbp_lv_stdL*tbp_lv_Lext / tbp_lv_stdL + tbp_lv_Lext\n",
    "    'size_age_interaction',          # clin_size_long_diam_mm  * age_approx\n",
    "    'hue_color_std_interaction',     # tbp_lv_H                * tbp_lv_color_std_mean\n",
    "    'lesion_severity_index',         # tbp_lv_norm_border      + tbp_lv_norm_color + tbp_lv_eccentricity / 3\n",
    "    'shape_complexity_index',        # border_complexity       + lesion_shape_index\n",
    "    'color_contrast_index',          # tbp_lv_deltaA + tbp_lv_deltaB + tbp_lv_deltaL + tbp_lv_deltaLBnorm\n",
    "\n",
    "    'log_lesion_area',               # tbp_lv_areaMM2          + 1  np.log\n",
    "    'normalized_lesion_size',        # clin_size_long_diam_mm  / age_approx\n",
    "    'mean_hue_difference',           # tbp_lv_H                + tbp_lv_Hext    / 2\n",
    "    'std_dev_contrast',              # tbp_lv_deltaA **2 + tbp_lv_deltaB **2 + tbp_lv_deltaL **2   / 3  np.sqrt\n",
    "    'color_shape_composite_index',   # tbp_lv_color_std_mean   + bp_lv_area_perim_ratio + tbp_lv_symm_2axis   / 3\n",
    "    'lesion_orientation_3d',         # tbp_lv_y                , tbp_lv_x  np.arctan2\n",
    "    'overall_color_difference',      # tbp_lv_deltaA           + tbp_lv_deltaB + tbp_lv_deltaL   / 3\n",
    "\n",
    "    'symmetry_perimeter_interaction',# tbp_lv_symm_2axis       * tbp_lv_perimeterMM\n",
    "    'comprehensive_lesion_index',    # tbp_lv_area_perim_ratio + tbp_lv_eccentricity + bp_lv_norm_color + tbp_lv_symm_2axis   / 4\n",
    "    'color_variance_ratio',          # tbp_lv_color_std_mean   / tbp_lv_stdLExt\n",
    "    'border_color_interaction',      # tbp_lv_norm_border      * tbp_lv_norm_color\n",
    "    'border_color_interaction_2',\n",
    "    'size_color_contrast_ratio',     # clin_size_long_diam_mm  / tbp_lv_deltaLBnorm\n",
    "    'age_normalized_nevi_confidence',# tbp_lv_nevi_confidence  / age_approx\n",
    "    'age_normalized_nevi_confidence_2',\n",
    "    'color_asymmetry_index',         # tbp_lv_symm_2axis       * tbp_lv_radial_color_std_max\n",
    "\n",
    "    'volume_approximation_3d',       # tbp_lv_areaMM2          * sqrt(tbp_lv_x**2 + tbp_lv_y**2 + tbp_lv_z**2)\n",
    "    'color_range',                   # abs(tbp_lv_L - tbp_lv_Lext) + abs(tbp_lv_A - tbp_lv_Aext) + abs(tbp_lv_B - tbp_lv_Bext)\n",
    "    'shape_color_consistency',       # tbp_lv_eccentricity     * tbp_lv_color_std_mean\n",
    "    'border_length_ratio',           # tbp_lv_perimeterMM      / pi * sqrt(tbp_lv_areaMM2 / pi)\n",
    "    'age_size_symmetry_index',       # age_approx              * clin_size_long_diam_mm * tbp_lv_symm_2axis\n",
    "    'index_age_size_symmetry',       # age_approx              * tbp_lv_areaMM2 * tbp_lv_symm_2axis\n",
    "]\n",
    "\n",
    "cat_cols = ['sex', 'anatom_site_general', 'tbp_tile_type', 'tbp_lv_location', 'tbp_lv_location_simple', 'attribution']\n",
    "\n",
    "norm_cols = [f'{col}_patient_norm' for col in num_cols + new_num_cols]\n",
    "_patient_sum_ratio = [f'{col}_patient_sum_ratio' for col in num_cols + new_num_cols]\n",
    "_patient_minmax = [f'{col}_patient_minmax' for col in num_cols + new_num_cols]\n",
    "_patient_rank = [f'{col}_patient_rank' for col in num_cols + new_num_cols]\n",
    "_patient_quantile_scaled = [f'{col}_patient_quantile_scaled' for col in num_cols + new_num_cols]\n",
    "\n",
    "\n",
    "special_cols = ['count_per_patient']\n",
    "feature_cols = num_cols + new_num_cols + cat_cols + norm_cols + special_cols + _patient_rank + _patient_minmax + _patient_sum_ratio\n",
    "# _patient_minmax + _patient_quantile_scaled + _patient_sum_ratio"
   ]
  },
  {
   "cell_type": "code",
   "execution_count": 7,
   "id": "5c1dbdcb",
   "metadata": {
    "execution": {
     "iopub.execute_input": "2024-09-05T17:45:40.001749Z",
     "iopub.status.busy": "2024-09-05T17:45:40.001369Z",
     "iopub.status.idle": "2024-09-05T17:45:40.008276Z",
     "shell.execute_reply": "2024-09-05T17:45:40.007133Z"
    },
    "papermill": {
     "duration": 0.018785,
     "end_time": "2024-09-05T17:45:40.010655",
     "exception": false,
     "start_time": "2024-09-05T17:45:39.991870",
     "status": "completed"
    },
    "tags": []
   },
   "outputs": [],
   "source": [
    "def select_features_using_corr_matrix(df, threshold=0.91):\n",
    "    corr_matrix = df.corr().abs()\n",
    "    upper = corr_matrix.where(np.triu(np.ones(corr_matrix.shape), k=1).astype(np.bool_))\n",
    "    to_drop = [column for column in upper.columns if any(upper[column] > threshold)]\n",
    "    selected_features = df.columns.difference(to_drop)\n",
    "    return selected_features.tolist()"
   ]
  },
  {
   "cell_type": "code",
   "execution_count": 8,
   "id": "72fa97fe",
   "metadata": {
    "execution": {
     "iopub.execute_input": "2024-09-05T17:45:40.029308Z",
     "iopub.status.busy": "2024-09-05T17:45:40.028603Z",
     "iopub.status.idle": "2024-09-05T17:45:40.064787Z",
     "shell.execute_reply": "2024-09-05T17:45:40.063383Z"
    },
    "papermill": {
     "duration": 0.049023,
     "end_time": "2024-09-05T17:45:40.067776",
     "exception": false,
     "start_time": "2024-09-05T17:45:40.018753",
     "status": "completed"
    },
    "tags": []
   },
   "outputs": [],
   "source": [
    "\n",
    "def read_data(path, oof_path=None, oof_path2=None):\n",
    "    df = (\n",
    "        pl.read_csv(path)\n",
    "        .with_columns(\n",
    "            pl.col('age_approx').cast(pl.String).replace('NA', np.nan).cast(pl.Float64),\n",
    "        )\n",
    "        .with_columns(\n",
    "            pl.col(pl.Float64).fill_nan(pl.col(pl.Float64).median()), # You may want to impute test data with train\n",
    "        )\n",
    "        .with_columns(\n",
    "            lesion_size_ratio              = pl.col('tbp_lv_minorAxisMM') / pl.col('clin_size_long_diam_mm'),\n",
    "            lesion_shape_index             = pl.col('tbp_lv_areaMM2') / (pl.col('tbp_lv_perimeterMM') ** 2),\n",
    "            hue_contrast                   = (pl.col('tbp_lv_H') - pl.col('tbp_lv_Hext')).abs(),\n",
    "            luminance_contrast             = (pl.col('tbp_lv_L') - pl.col('tbp_lv_Lext')).abs(),\n",
    "            lesion_color_difference        = (pl.col('tbp_lv_deltaA') ** 2 + pl.col('tbp_lv_deltaB') ** 2 + pl.col('tbp_lv_deltaL') ** 2).sqrt(),\n",
    "            border_complexity              = pl.col('tbp_lv_norm_border') + pl.col('tbp_lv_symm_2axis'),\n",
    "            color_uniformity               = pl.col('tbp_lv_color_std_mean') / (pl.col('tbp_lv_radial_color_std_max') + err),\n",
    "        )\n",
    "        .with_columns(\n",
    "            position_distance_3d           = (pl.col('tbp_lv_x') ** 2 + pl.col('tbp_lv_y') ** 2 + pl.col('tbp_lv_z') ** 2).sqrt(),\n",
    "            perimeter_to_area_ratio        = pl.col('tbp_lv_perimeterMM') / pl.col('tbp_lv_areaMM2'),\n",
    "            area_to_perimeter_ratio        = pl.col('tbp_lv_areaMM2') / pl.col('tbp_lv_perimeterMM'),\n",
    "            lesion_visibility_score        = pl.col('tbp_lv_deltaLBnorm') + pl.col('tbp_lv_norm_color'),\n",
    "            combined_anatomical_site       = pl.col('anatom_site_general') + '_' + pl.col('tbp_lv_location'),\n",
    "            symmetry_border_consistency    = pl.col('tbp_lv_symm_2axis') * pl.col('tbp_lv_norm_border'),\n",
    "            consistency_symmetry_border    = pl.col('tbp_lv_symm_2axis') * pl.col('tbp_lv_norm_border') / (pl.col('tbp_lv_symm_2axis') + pl.col('tbp_lv_norm_border')),\n",
    "        )\n",
    "        .with_columns(\n",
    "            color_consistency              = pl.col('tbp_lv_stdL') / pl.col('tbp_lv_Lext'),\n",
    "            consistency_color              = pl.col('tbp_lv_stdL') * pl.col('tbp_lv_Lext') / (pl.col('tbp_lv_stdL') + pl.col('tbp_lv_Lext')),\n",
    "            size_age_interaction           = pl.col('clin_size_long_diam_mm') * pl.col('age_approx'),\n",
    "            hue_color_std_interaction      = pl.col('tbp_lv_H') * pl.col('tbp_lv_color_std_mean'),\n",
    "            lesion_severity_index          = (pl.col('tbp_lv_norm_border') + pl.col('tbp_lv_norm_color') + pl.col('tbp_lv_eccentricity')) / 3,\n",
    "            shape_complexity_index         = pl.col('border_complexity') + pl.col('lesion_shape_index'),\n",
    "            color_contrast_index           = pl.col('tbp_lv_deltaA') + pl.col('tbp_lv_deltaB') + pl.col('tbp_lv_deltaL') + pl.col('tbp_lv_deltaLBnorm'),\n",
    "        )\n",
    "        .with_columns(\n",
    "            log_lesion_area                = (pl.col('tbp_lv_areaMM2') + 1).log(),\n",
    "            normalized_lesion_size         = pl.col('clin_size_long_diam_mm') / pl.col('age_approx'),\n",
    "            mean_hue_difference            = (pl.col('tbp_lv_H') + pl.col('tbp_lv_Hext')) / 2,\n",
    "            std_dev_contrast               = ((pl.col('tbp_lv_deltaA') ** 2 + pl.col('tbp_lv_deltaB') ** 2 + pl.col('tbp_lv_deltaL') ** 2) / 3).sqrt(),\n",
    "            color_shape_composite_index    = (pl.col('tbp_lv_color_std_mean') + pl.col('tbp_lv_area_perim_ratio') + pl.col('tbp_lv_symm_2axis')) / 3,\n",
    "            lesion_orientation_3d          = pl.arctan2(pl.col('tbp_lv_y'), pl.col('tbp_lv_x')),\n",
    "            overall_color_difference       = (pl.col('tbp_lv_deltaA') + pl.col('tbp_lv_deltaB') + pl.col('tbp_lv_deltaL')) / 3,\n",
    "        )\n",
    "        .with_columns(\n",
    "            symmetry_perimeter_interaction = pl.col('tbp_lv_symm_2axis') * pl.col('tbp_lv_perimeterMM'),\n",
    "            comprehensive_lesion_index     = (pl.col('tbp_lv_area_perim_ratio') + pl.col('tbp_lv_eccentricity') + pl.col('tbp_lv_norm_color') + pl.col('tbp_lv_symm_2axis')) / 4,\n",
    "            color_variance_ratio           = pl.col('tbp_lv_color_std_mean') / pl.col('tbp_lv_stdLExt'),\n",
    "            border_color_interaction       = pl.col('tbp_lv_norm_border') * pl.col('tbp_lv_norm_color'),\n",
    "            border_color_interaction_2     = pl.col('tbp_lv_norm_border') * pl.col('tbp_lv_norm_color') / (pl.col('tbp_lv_norm_border') + pl.col('tbp_lv_norm_color')),\n",
    "            size_color_contrast_ratio      = pl.col('clin_size_long_diam_mm') / pl.col('tbp_lv_deltaLBnorm'),\n",
    "            age_normalized_nevi_confidence = pl.col('tbp_lv_nevi_confidence') / pl.col('age_approx'),\n",
    "            age_normalized_nevi_confidence_2 = (pl.col('clin_size_long_diam_mm')**2 + pl.col('age_approx')**2).sqrt(),\n",
    "            color_asymmetry_index          = pl.col('tbp_lv_radial_color_std_max') * pl.col('tbp_lv_symm_2axis'),\n",
    "        )\n",
    "        .with_columns(\n",
    "            volume_approximation_3d        = pl.col('tbp_lv_areaMM2') * (pl.col('tbp_lv_x')**2 + pl.col('tbp_lv_y')**2 + pl.col('tbp_lv_z')**2).sqrt(),\n",
    "            color_range                    = (pl.col('tbp_lv_L') - pl.col('tbp_lv_Lext')).abs() + (pl.col('tbp_lv_A') - pl.col('tbp_lv_Aext')).abs() + (pl.col('tbp_lv_B') - pl.col('tbp_lv_Bext')).abs(),\n",
    "            shape_color_consistency        = pl.col('tbp_lv_eccentricity') * pl.col('tbp_lv_color_std_mean'),\n",
    "            border_length_ratio            = pl.col('tbp_lv_perimeterMM') / (2 * np.pi * (pl.col('tbp_lv_areaMM2') / np.pi).sqrt()),\n",
    "            age_size_symmetry_index        = pl.col('age_approx') * pl.col('clin_size_long_diam_mm') * pl.col('tbp_lv_symm_2axis'),\n",
    "            index_age_size_symmetry        = pl.col('age_approx') * pl.col('tbp_lv_areaMM2') * pl.col('tbp_lv_symm_2axis'),\n",
    "        )\n",
    "        .with_columns(\n",
    "            relative_luminance_variation = pl.col('tbp_lv_stdL') / pl.col('tbp_lv_L'),\n",
    "            circularity_index = pl.col('tbp_lv_perimeterMM') / (2 * (np.pi * pl.col('tbp_lv_areaMM2')).sqrt()),\n",
    "\n",
    "            asymmetry_eccentricity_product = pl.col('tbp_lv_symm_2axis') * pl.col('tbp_lv_eccentricity'),\n",
    "            normalized_luminance_difference = (pl.col('tbp_lv_L') - pl.col('tbp_lv_Lext')) / (pl.col('tbp_lv_L') + pl.col('tbp_lv_Lext') + err),\n",
    "            color_distance = (pl.col('tbp_lv_A') - pl.col('tbp_lv_Aext'))**2 + (pl.col('tbp_lv_B') - pl.col('tbp_lv_Bext'))**2,\n",
    "            area_to_age_ratio = pl.col('tbp_lv_areaMM2') / pl.col('age_approx'),\n",
    "            aspect_ratio = pl.col('clin_size_long_diam_mm') / pl.col('tbp_lv_minorAxisMM'),\n",
    "            combined_severity_score = (pl.col('tbp_lv_norm_border') + pl.col('tbp_lv_norm_color') + pl.col('lesion_severity_index')) / 3,\n",
    "            nevi_severity_interaction = pl.col('tbp_lv_nevi_confidence') * pl.col('lesion_severity_index'),\n",
    "            age_contrast_interaction = pl.col('age_approx') * pl.col('tbp_lv_deltaLBnorm'),\n",
    "            depth_to_surface_ratio = (pl.col('tbp_lv_x')**2 + pl.col('tbp_lv_y')**2).sqrt() / pl.col('tbp_lv_z'),\n",
    "            color_volume = (pl.col('tbp_lv_L') * pl.col('tbp_lv_A') * pl.col('tbp_lv_B')) ** (1/3),\n",
    "            hue_chroma_product = pl.col('tbp_lv_H') * pl.col('tbp_lv_C'),\n",
    "            size_deviation_from_patient_mean = pl.col('clin_size_long_diam_mm') - pl.col('clin_size_long_diam_mm').mean().over('patient_id'),\n",
    "            border_complexity_score = pl.col('tbp_lv_norm_border') + pl.col('tbp_lv_symm_2axis'),\n",
    "            color_to_border_ratio = pl.col('tbp_lv_norm_color') / pl.col('tbp_lv_norm_border'),\n",
    "            symmetry_eccentricity_difference = pl.col('tbp_lv_symm_2axis') - pl.col('tbp_lv_eccentricity'),\n",
    "        )\n",
    "        .with_columns(\n",
    "            ((pl.col(col) - pl.col(col).mean().over('patient_id')) / (pl.col(col).std().over('patient_id') + err)).alias(f'{col}_patient_norm') for col in (num_cols + new_num_cols)\n",
    "        )\n",
    "        .with_columns(\n",
    "            (pl.col(col) / (pl.col(col).sum().over('patient_id') + err)).alias(f'{col}_patient_sum_ratio') for col in (num_cols + new_num_cols)\n",
    "        )\n",
    "        .with_columns(\n",
    "            ((pl.col(col) - pl.col(col).min().over('patient_id')) / (pl.col(col).max().over('patient_id') - pl.col(col).min().over('patient_id') + err)).alias(f'{col}_patient_minmax') for col in (num_cols + new_num_cols)\n",
    "        )\n",
    "        .with_columns(\n",
    "            (pl.col(col).rank('ordinal').over('patient_id')).alias(f'{col}_patient_rank') for col in (num_cols + new_num_cols)\n",
    "        )\n",
    "        .with_columns(\n",
    "            ((pl.col(col) - pl.col(col).quantile(0.25).over('patient_id')) / (pl.col(col).quantile(0.75).over('patient_id') - pl.col(col).quantile(0.25).over('patient_id') + err)).alias(f'{col}_patient_quantile_scaled') for col in (num_cols + new_num_cols)\n",
    "        )\n",
    "        .with_columns(\n",
    "            count_per_patient = pl.col('isic_id').count().over('patient_id'),\n",
    "        )\n",
    "        .with_columns(\n",
    "            pl.col(cat_cols).cast(pl.Categorical),\n",
    "        )\n",
    "        .to_pandas()\n",
    "    )\n",
    "    \n",
    "    if oof_path:\n",
    "        df_effb0_oof = pd.read_csv(oof_path)\n",
    "        df_effb0_oof = df_effb0_oof[['oof_predictions_effnetb0']].reset_index(drop=True)\n",
    "        df = df.reset_index(drop=True)\n",
    "        df['oof_predictions_effnetb0'] = df_effb0_oof['oof_predictions_effnetb0']\n",
    "        feature_cols.append('oof_predictions_effnetb0')\n",
    "\n",
    "    \n",
    "    if oof_path2:\n",
    "        df_resnet18_oof = pd.read_csv(oof_path2)\n",
    "        df_resnet18_oof = df_resnet18_oof[['oof_predictions_eva02']].reset_index(drop=True)\n",
    "        df = df.reset_index(drop=True)\n",
    "        df['oof_predictions_eva02'] = df_resnet18_oof['oof_predictions_eva02']\n",
    "        feature_cols.append('oof_predictions_eva02')\n",
    "    \n",
    "    return df"
   ]
  },
  {
   "cell_type": "code",
   "execution_count": 9,
   "id": "20a87a7a",
   "metadata": {
    "execution": {
     "iopub.execute_input": "2024-09-05T17:45:40.085388Z",
     "iopub.status.busy": "2024-09-05T17:45:40.084964Z",
     "iopub.status.idle": "2024-09-05T17:45:40.090441Z",
     "shell.execute_reply": "2024-09-05T17:45:40.089179Z"
    },
    "papermill": {
     "duration": 0.016993,
     "end_time": "2024-09-05T17:45:40.092864",
     "exception": false,
     "start_time": "2024-09-05T17:45:40.075871",
     "status": "completed"
    },
    "tags": []
   },
   "outputs": [],
   "source": [
    "# # Open the pickle file in binary read mode\n",
    "# with open('/kaggle/input/shap-features-90/lgb_90_selected_features.pkl', 'rb') as file:\n",
    "#     # Load the data from the file\n",
    "#     lgb_shap_features = pickle.load(file)\n",
    "    \n",
    "# # Open the pickle file in binary read mode\n",
    "# with open('/kaggle/input/shap-features-90/cb_90_selected_features.pkl', 'rb') as file:\n",
    "#     # Load the data from the file\n",
    "#     cb_shap_features = pickle.load(file)\n",
    "    \n",
    "# # Open the pickle file in binary read mode\n",
    "# with open('/kaggle/input/shap-features-90/xgb_90_selected_features.pkl', 'rb') as file:\n",
    "#     # Load the data from the file\n",
    "#     xgb_shap_features = pickle.load(file)\n",
    "    \n",
    "# lgb_shap_features += ['oof_predictions_effnetb0']\n",
    "# xgb_shap_features += ['oof_predictions_effnetb0']\n",
    "# cb_shap_features += ['oof_predictions_effnetb0']"
   ]
  },
  {
   "cell_type": "code",
   "execution_count": 10,
   "id": "fa31e529",
   "metadata": {
    "execution": {
     "iopub.execute_input": "2024-09-05T17:45:40.110502Z",
     "iopub.status.busy": "2024-09-05T17:45:40.110081Z",
     "iopub.status.idle": "2024-09-05T17:45:40.118437Z",
     "shell.execute_reply": "2024-09-05T17:45:40.116915Z"
    },
    "papermill": {
     "duration": 0.021708,
     "end_time": "2024-09-05T17:45:40.122450",
     "exception": false,
     "start_time": "2024-09-05T17:45:40.100742",
     "status": "completed"
    },
    "tags": []
   },
   "outputs": [],
   "source": [
    "def preprocess(df_train, df_test):\n",
    "    global cat_cols\n",
    "    \n",
    "    encoder = OneHotEncoder(sparse_output=False, dtype=np.int32, handle_unknown='ignore')\n",
    "    encoder.fit(df_train[cat_cols])\n",
    "    \n",
    "    new_cat_cols = [f'onehot_{i}' for i in range(len(encoder.get_feature_names_out()))]\n",
    "\n",
    "    df_train[new_cat_cols] = encoder.transform(df_train[cat_cols])\n",
    "    df_train[new_cat_cols] = df_train[new_cat_cols].astype('category')\n",
    "\n",
    "    df_test[new_cat_cols] = encoder.transform(df_test[cat_cols])\n",
    "    df_test[new_cat_cols] = df_test[new_cat_cols].astype('category')\n",
    "\n",
    "    for col in cat_cols:\n",
    "        feature_cols.remove(col)\n",
    "\n",
    "    feature_cols.extend(new_cat_cols)\n",
    "#     lgb_shap_features.extend(new_cat_cols)\n",
    "#     xgb_shap_features.extend(new_cat_cols)\n",
    "#     cb_shap_features.extend(new_cat_cols)\n",
    "    selected_features.extend(new_cat_cols)\n",
    "    cat_cols = new_cat_cols\n",
    "    \n",
    "    return df_train, df_test"
   ]
  },
  {
   "cell_type": "code",
   "execution_count": 11,
   "id": "ff5c94d8",
   "metadata": {
    "execution": {
     "iopub.execute_input": "2024-09-05T17:45:40.141907Z",
     "iopub.status.busy": "2024-09-05T17:45:40.141532Z",
     "iopub.status.idle": "2024-09-05T17:45:40.148295Z",
     "shell.execute_reply": "2024-09-05T17:45:40.147180Z"
    },
    "papermill": {
     "duration": 0.018783,
     "end_time": "2024-09-05T17:45:40.150728",
     "exception": false,
     "start_time": "2024-09-05T17:45:40.131945",
     "status": "completed"
    },
    "tags": []
   },
   "outputs": [],
   "source": [
    "def custom_metric(estimator, X, y_true):\n",
    "    y_hat = estimator.predict_proba(X)[:, 1]\n",
    "    min_tpr = 0.80\n",
    "    max_fpr = abs(1 - min_tpr)\n",
    "    \n",
    "    v_gt = abs(y_true - 1)\n",
    "    v_pred = np.array([1.0 - x for x in y_hat])\n",
    "    \n",
    "    partial_auc_scaled = roc_auc_score(v_gt, v_pred, max_fpr=max_fpr)\n",
    "    partial_auc = 0.5 * max_fpr**2 + (max_fpr - 0.5 * max_fpr**2) / (1.0 - 0.5) * (partial_auc_scaled - 0.5)\n",
    "    \n",
    "    return partial_auc"
   ]
  },
  {
   "cell_type": "code",
   "execution_count": 12,
   "id": "67a02b6b",
   "metadata": {
    "execution": {
     "iopub.execute_input": "2024-09-05T17:45:40.169081Z",
     "iopub.status.busy": "2024-09-05T17:45:40.168709Z",
     "iopub.status.idle": "2024-09-05T18:03:44.984577Z",
     "shell.execute_reply": "2024-09-05T18:03:44.983262Z"
    },
    "papermill": {
     "duration": 1084.828234,
     "end_time": "2024-09-05T18:03:44.986946",
     "exception": false,
     "start_time": "2024-09-05T17:45:40.158712",
     "status": "completed"
    },
    "tags": []
   },
   "outputs": [
    {
     "name": "stderr",
     "output_type": "stream",
     "text": [
      "Columns (51,52) have mixed types. Specify dtype option on import or set low_memory=False.\n"
     ]
    },
    {
     "name": "stdout",
     "output_type": "stream",
     "text": [
      "Analyzing ducklings"
     ]
    },
    {
     "name": "stderr",
     "output_type": "stream",
     "text": [
      "The default of observed=False is deprecated and will be changed to True in a future version of pandas. Pass observed=False to retain current behavior or observed=True to adopt the future default and silence this warning.\n"
     ]
    },
    {
     "name": "stdout",
     "output_type": "stream",
     "text": [
      "............................................................................................................................................................................................................................................................................................................................................................................................................................................................................................................................................................................................................................................................................................................................................................................................................................................................................................................................................................................................................................................................................................................................................................................................................................................................................................................................................................................\n",
      "Concat ducklings\n",
      "Extending ducklings\n",
      "Enhancing ugly duckling features........................................................................................................\n",
      "Analyzing ducklings"
     ]
    },
    {
     "name": "stderr",
     "output_type": "stream",
     "text": [
      "The default of observed=False is deprecated and will be changed to True in a future version of pandas. Pass observed=False to retain current behavior or observed=True to adopt the future default and silence this warning.\n"
     ]
    },
    {
     "name": "stdout",
     "output_type": "stream",
     "text": [
      "\n",
      "Concat ducklings\n",
      "Extending ducklings\n",
      "Enhancing ugly duckling features\n"
     ]
    }
   ],
   "source": [
    "# Usage\n",
    "# , oof_path2='/kaggle/input/384-5-fold-resnest-oof-predictions/oof_predictions_resnest101.csv'\n",
    "df_train = read_data(train_path, oof_path='/kaggle/input/384x384-1-50-ratio-5fold-effnetb0-oof-predictions/oof_predictions.csv')\n",
    "df_test = read_data(test_path)\n",
    "\n",
    "# hog_df = pd.read_csv('/kaggle/input/hog-featuresv2/hog_features (3).csv')\n",
    "# hog_df = hog_df.iloc[:, :25]\n",
    "# hog_df['image_id'] = hog_df['image_id'].str.replace('.jpg', '')\n",
    "\n",
    "# df_train = pd.merge(df_train, hog_df, how='outer', left_on='isic_id', right_on='image_id')\n",
    "# df_train = df_train.drop(columns=['image_id'])\n",
    "\n",
    "# hog_num_cols = hog_df.select_dtypes(include='number').columns.tolist()\n",
    "\n",
    "def ugly_duckling_processing(df, num_cols):\n",
    "    ud_columns = num_cols.copy()\n",
    "    ud_num_cols = []\n",
    "    \n",
    "    #if false - only do location-based ugly ducklings\n",
    "    include_patient_wide_ud = False  \n",
    "    \n",
    "    counter = 0\n",
    "    \n",
    "    def calc_ugly_duckling_scores(group, grouping):\n",
    "        nonlocal counter\n",
    "        counter += 1\n",
    "        if counter % 10 == 0: print(\".\", end=\"\", flush=True)\n",
    "        z_scores = group[ud_columns].apply(lambda x: zscore(x, nan_policy='omit'))\n",
    "        ud_scores = np.abs(z_scores)\n",
    "        prefix = 'ud_' if grouping == 'patient' else 'ud_loc_'\n",
    "        ud_scores.columns = [f'{prefix}{col}' for col in ud_columns]\n",
    "        return ud_scores\n",
    "\n",
    "    print(\"Analyzing ducklings\", end=\"\", flush=True)\n",
    "    ud_location_col = 'tbp_lv_location'\n",
    "    ud_scores_loc = df.groupby(['patient_id', ud_location_col])[ud_columns + ['patient_id', ud_location_col]].apply(\n",
    "        lambda x: calc_ugly_duckling_scores(x, 'location')\n",
    "    ).reset_index(level=[0, 1], drop=True)\n",
    "    \n",
    "    print(\"\\nConcat ducklings\")\n",
    "    df = pd.concat([df, ud_scores_loc], axis=1)\n",
    "    \n",
    "    if include_patient_wide_ud:\n",
    "        print(\"Analyzing ducklings (part 2)\", end=\"\", flush=True)\n",
    "        ud_scores_patient = df.groupby('patient_id')[ud_columns + ['patient_id']].apply(\n",
    "            lambda x: calc_ugly_duckling_scores(x, 'patient')\n",
    "        ).reset_index(level=0, drop=True)\n",
    "        df = pd.concat([df, ud_scores_patient], axis=1)\n",
    "        print()  # New line after progress indicator\n",
    "\n",
    "    print(\"Extending ducklings\")\n",
    "    ud_num_cols.extend([f'ud_loc_{col}' for col in ud_columns])\n",
    "    if include_patient_wide_ud:\n",
    "        ud_num_cols.extend([f'ud_{col}' for col in ud_columns])\n",
    "\n",
    "    print(\"Enhancing ugly duckling features\", end=\"\", flush=True)\n",
    "    \n",
    "    # 1. Percentile-based ugly duckling scores\n",
    "    def calc_percentile_ud_scores(group):\n",
    "        nonlocal counter\n",
    "        counter += 1\n",
    "        if counter % 10 == 0: print(\".\", end=\"\", flush=True)\n",
    "        percentiles = group[ud_columns].rank(pct=True)\n",
    "        return percentiles.add_prefix('ud_percentile_')\n",
    "    \n",
    "    counter = 0  # Reset counter for percentile calculation\n",
    "    ud_percentiles = df.groupby('patient_id')[ud_columns].apply(calc_percentile_ud_scores).reset_index(level=0, drop=True)\n",
    "    df = pd.concat([df, ud_percentiles], axis=1)\n",
    "    ud_num_cols.extend([f'ud_percentile_{col}' for col in ud_columns])\n",
    "    print()  # New line after progress indicator\n",
    "\n",
    "    # 2. Ugly duckling count features\n",
    "    threshold = 2.0  # You can adjust this threshold\n",
    "    if include_patient_wide_ud:\n",
    "        ud_count = (df[[f'ud_{col}' for col in ud_columns]].abs() > threshold).sum(axis=1)\n",
    "        df['ud_count_patient'] = ud_count\n",
    "        ud_num_cols.append('ud_count_patient')\n",
    "    \n",
    "    ud_count_loc = (df[[f'ud_loc_{col}' for col in ud_columns]].abs() > threshold).sum(axis=1)\n",
    "    df['ud_count_location'] = ud_count_loc\n",
    "    ud_num_cols.append('ud_count_location')\n",
    "\n",
    "    # 3. Ugly duckling severity features\n",
    "    if include_patient_wide_ud:\n",
    "        df['ud_max_severity_patient'] = df[[f'ud_{col}' for col in ud_columns]].abs().max(axis=1)\n",
    "        ud_num_cols.append('ud_max_severity_patient')\n",
    "    df['ud_max_severity_location'] = df[[f'ud_loc_{col}' for col in ud_columns]].abs().max(axis=1)\n",
    "    ud_num_cols.append('ud_max_severity_location')\n",
    "\n",
    "    # 4. Ugly duckling consistency features\n",
    "    if include_patient_wide_ud:\n",
    "        df['ud_consistency_patient'] = df[[f'ud_{col}' for col in ud_columns]].abs().std(axis=1)\n",
    "        ud_num_cols.append('ud_consistency_patient')\n",
    "    df['ud_consistency_location'] = df[[f'ud_loc_{col}' for col in ud_columns]].abs().std(axis=1)\n",
    "    ud_num_cols.append('ud_consistency_location')\n",
    "\n",
    "    return df, ud_num_cols\n",
    "\n",
    "if do_ud:\n",
    "    df_train, ud_num_cols = ugly_duckling_processing(df_train.copy(), num_cols+new_num_cols)\n",
    "    df_test, _ = ugly_duckling_processing(df_test.copy(), num_cols+new_num_cols)"
   ]
  },
  {
   "cell_type": "code",
   "execution_count": 13,
   "id": "cfc6034d",
   "metadata": {
    "execution": {
     "iopub.execute_input": "2024-09-05T18:03:45.180082Z",
     "iopub.status.busy": "2024-09-05T18:03:45.179628Z",
     "iopub.status.idle": "2024-09-05T18:08:57.258842Z",
     "shell.execute_reply": "2024-09-05T18:08:57.257289Z"
    },
    "papermill": {
     "duration": 312.179758,
     "end_time": "2024-09-05T18:08:57.261744",
     "exception": false,
     "start_time": "2024-09-05T18:03:45.081986",
     "status": "completed"
    },
    "tags": []
   },
   "outputs": [
    {
     "name": "stdout",
     "output_type": "stream",
     "text": [
      "191\n",
      "238\n"
     ]
    }
   ],
   "source": [
    "\n",
    "    \n",
    "num_cols = num_cols + new_num_cols + norm_cols + special_cols + _patient_rank + ud_num_cols + _patient_minmax + _patient_sum_ratio\n",
    "# _patient_quantile_scaled + _patient_minmax + lbp_num_cols + _patient_sum_ratio\n",
    "\n",
    "selected_features = select_features_using_corr_matrix(df_train[num_cols])\n",
    "print(len(selected_features))\n",
    "    \n",
    "df_train, df_test = preprocess(df_train, df_test)\n",
    "print(len(selected_features))"
   ]
  },
  {
   "cell_type": "code",
   "execution_count": 14,
   "id": "44265a0b",
   "metadata": {
    "execution": {
     "iopub.execute_input": "2024-09-05T18:08:57.456284Z",
     "iopub.status.busy": "2024-09-05T18:08:57.455648Z",
     "iopub.status.idle": "2024-09-05T18:08:57.462558Z",
     "shell.execute_reply": "2024-09-05T18:08:57.461515Z"
    },
    "papermill": {
     "duration": 0.107363,
     "end_time": "2024-09-05T18:08:57.464960",
     "exception": false,
     "start_time": "2024-09-05T18:08:57.357597",
     "status": "completed"
    },
    "tags": []
   },
   "outputs": [
    {
     "name": "stdout",
     "output_type": "stream",
     "text": [
      "238\n",
      "239\n"
     ]
    }
   ],
   "source": [
    "print(len(selected_features))\n",
    "selected_features += ['oof_predictions_effnetb0']\n",
    "# lgb_shap_features += ['oof_predictions_effnetb0']\n",
    "# xgb_shap_features += ['oof_predictions_effnetb0']\n",
    "# cb_shap_features += ['oof_predictions_effnetb0']\n",
    "# print(len(lgb_shap_features))\n",
    "\n",
    "print(len(selected_features))"
   ]
  },
  {
   "cell_type": "markdown",
   "id": "60ec6c88",
   "metadata": {
    "papermill": {
     "duration": 0.096546,
     "end_time": "2024-09-05T18:08:57.657838",
     "exception": false,
     "start_time": "2024-09-05T18:08:57.561292",
     "status": "completed"
    },
    "tags": []
   },
   "source": [
    "### Data Read & Feature Engineering"
   ]
  },
  {
   "cell_type": "code",
   "execution_count": 15,
   "id": "0dc65c62",
   "metadata": {
    "execution": {
     "iopub.execute_input": "2024-09-05T18:08:57.854769Z",
     "iopub.status.busy": "2024-09-05T18:08:57.854342Z",
     "iopub.status.idle": "2024-09-05T18:08:59.526094Z",
     "shell.execute_reply": "2024-09-05T18:08:59.524934Z"
    },
    "papermill": {
     "duration": 1.772351,
     "end_time": "2024-09-05T18:08:59.528868",
     "exception": false,
     "start_time": "2024-09-05T18:08:57.756517",
     "status": "completed"
    },
    "tags": []
   },
   "outputs": [],
   "source": [
    "X = df_train[selected_features]\n",
    "y = df_train[target_col]\n",
    "groups = df_train[group_col]\n",
    "# cv = StratifiedGroupKFold(5, shuffle=True, random_state=seed)\n",
    "\n",
    "\n",
    "N_SPLITS = 5\n",
    "gkf = StratifiedGroupKFold(n_splits=N_SPLITS, shuffle=True, random_state=42)\n",
    "\n",
    "df_train[\"fold\"] = -1\n",
    "for idx, (train_idx, val_idx) in enumerate(gkf.split(df_train, df_train[\"target\"], groups=df_train[\"patient_id\"])):\n",
    "    df_train.loc[val_idx, \"fold\"] = idx\n",
    "    \n",
    "\n",
    "# val_score = cross_val_score(\n",
    "#     estimator=estimator, \n",
    "#     X=X, y=y, \n",
    "#     cv=cv, \n",
    "#     groups=groups,\n",
    "#     scoring=custom_metric,\n",
    "# )\n",
    "\n",
    "# np.mean(val_score), val_score"
   ]
  },
  {
   "cell_type": "code",
   "execution_count": 16,
   "id": "84d43b00",
   "metadata": {
    "execution": {
     "iopub.execute_input": "2024-09-05T18:08:59.724477Z",
     "iopub.status.busy": "2024-09-05T18:08:59.724093Z",
     "iopub.status.idle": "2024-09-05T18:08:59.732393Z",
     "shell.execute_reply": "2024-09-05T18:08:59.731366Z"
    },
    "papermill": {
     "duration": 0.10923,
     "end_time": "2024-09-05T18:08:59.734621",
     "exception": false,
     "start_time": "2024-09-05T18:08:59.625391",
     "status": "completed"
    },
    "tags": []
   },
   "outputs": [
    {
     "data": {
      "text/plain": [
       "401054    4\n",
       "401055    3\n",
       "401056    1\n",
       "401057    3\n",
       "401058    0\n",
       "Name: fold, dtype: int64"
      ]
     },
     "execution_count": 16,
     "metadata": {},
     "output_type": "execute_result"
    }
   ],
   "source": [
    "df_train['fold'].tail()"
   ]
  },
  {
   "cell_type": "code",
   "execution_count": 17,
   "id": "d3fa5bb2",
   "metadata": {
    "execution": {
     "iopub.execute_input": "2024-09-05T18:09:00.010829Z",
     "iopub.status.busy": "2024-09-05T18:09:00.010414Z",
     "iopub.status.idle": "2024-09-05T18:09:00.017912Z",
     "shell.execute_reply": "2024-09-05T18:09:00.016802Z"
    },
    "papermill": {
     "duration": 0.189638,
     "end_time": "2024-09-05T18:09:00.020534",
     "exception": false,
     "start_time": "2024-09-05T18:08:59.830896",
     "status": "completed"
    },
    "tags": []
   },
   "outputs": [],
   "source": [
    "def comp_score(solution: pd.DataFrame, submission: pd.DataFrame, row_id_column_name: str, min_tpr: float=0.80):\n",
    "    v_gt = abs(np.asarray(solution.values)-1)\n",
    "    v_pred = np.array([1.0 - x for x in submission.values])\n",
    "    max_fpr = abs(1-min_tpr)\n",
    "    partial_auc_scaled = roc_auc_score(v_gt, v_pred, max_fpr=max_fpr)\n",
    "    # change scale from [0.5, 1.0] to [0.5 * max_fpr**2, max_fpr]\n",
    "    # https://math.stackexchange.com/questions/914823/shift-numbers-into-a-different-range\n",
    "    partial_auc = 0.5 * max_fpr**2 + (max_fpr - 0.5 * max_fpr**2) / (1.0 - 0.5) * (partial_auc_scaled - 0.5)\n",
    "    return partial_auc"
   ]
  },
  {
   "cell_type": "code",
   "execution_count": 18,
   "id": "53f7c983",
   "metadata": {
    "execution": {
     "iopub.execute_input": "2024-09-05T18:09:00.219682Z",
     "iopub.status.busy": "2024-09-05T18:09:00.219274Z",
     "iopub.status.idle": "2024-09-05T18:09:00.229378Z",
     "shell.execute_reply": "2024-09-05T18:09:00.228035Z"
    },
    "papermill": {
     "duration": 0.113385,
     "end_time": "2024-09-05T18:09:00.231755",
     "exception": false,
     "start_time": "2024-09-05T18:09:00.118370",
     "status": "completed"
    },
    "tags": []
   },
   "outputs": [],
   "source": [
    "\n",
    "lgb_params = {\n",
    "        'objective':        'binary',\n",
    "        'verbosity':        -1,\n",
    "        'n_iter':           200,\n",
    "        'boosting_type':    'gbdt',\n",
    "        'random_state':     seed,\n",
    "        'learning_rate': 0.03104273262811841,\n",
    "        'num_leaves': 111,\n",
    "        'min_child_samples': 100,\n",
    "        'bagging_fraction': 0.9101945804571369,\n",
    "        'feature_fraction': 0.34103959543345147,\n",
    "        'feature_fraction_bynode ': 0.5450587760167019,\n",
    "        'bagging_freq': 1,\n",
    "        'lambda_l1': 3.211848972246674e-07, \n",
    "        'lambda_l2': 3.720742147032093e-07,\n",
    "        'max_depth': 4,\n",
    "        'scale_pos_weight': 2.785263418574575,\n",
    "    # 0.1823\n",
    "}\n",
    "\n",
    "\n",
    "cb_params = {\n",
    "    'loss_function':     'Logloss',\n",
    "    'iterations':        200,\n",
    "    'verbose':           False,\n",
    "    'random_state':      seed,\n",
    "    'cat_features':      cat_cols,\n",
    "    'depth':             5,\n",
    "    'learning_rate':     0.0721506164096434,\n",
    "    'l2_leaf_reg':       7.475812134744556,\n",
    "    'min_data_in_leaf':  59,\n",
    "    'scale_pos_weight':  4.254188566545996,\n",
    "    'subsample':         0.6016652239201599\n",
    "}\n",
    "\n",
    "xgb_params = {\n",
    "    'enable_categorical': True,\n",
    "    'tree_method':        'hist',\n",
    "    'random_state':       seed,\n",
    "    'n_estimators':       206,\n",
    "    'learning_rate':      0.042310779751030335, \n",
    "    'lambda':             0.0002847007250281572, \n",
    "    'alpha':              4.478266669867162e-08, \n",
    "    'max_depth':          6, \n",
    "    'subsample':          0.811997027872852, \n",
    "    'min_child_weight':   6,\n",
    "#     'colsample_bytree':   0.8437772277074493, \n",
    "#     'colsample_bylevel':  0.5476090898823716, \n",
    "#     'colsample_bynode':   0.9928601203635129, \n",
    "    'scale_pos_weight':   3.884899202547225,\n",
    "}\n",
    "\n",
    "\n"
   ]
  },
  {
   "cell_type": "code",
   "execution_count": 19,
   "id": "7f77eeb0",
   "metadata": {
    "execution": {
     "iopub.execute_input": "2024-09-05T18:09:00.429937Z",
     "iopub.status.busy": "2024-09-05T18:09:00.429327Z",
     "iopub.status.idle": "2024-09-05T18:09:00.447429Z",
     "shell.execute_reply": "2024-09-05T18:09:00.446058Z"
    },
    "papermill": {
     "duration": 0.119526,
     "end_time": "2024-09-05T18:09:00.449843",
     "exception": false,
     "start_time": "2024-09-05T18:09:00.330317",
     "status": "completed"
    },
    "tags": []
   },
   "outputs": [],
   "source": [
    "from tqdm import tqdm  # For progress bar\n",
    "\n",
    "if SHAP_LGB:\n",
    "\n",
    "    # Initialize variables\n",
    "    lgb_scores = []\n",
    "    lgb_models = []\n",
    "    oof_df = pd.DataFrame()\n",
    "    lgbm_shap_values_list = []\n",
    "\n",
    "    # Train model and calculate SHAP values for each fold\n",
    "    for fold in range(N_SPLITS):\n",
    "        _df_train = df_train[df_train[\"fold\"] != fold].reset_index(drop=True)\n",
    "        _df_valid = df_train[df_train[\"fold\"] == fold].reset_index(drop=True)\n",
    "\n",
    "        lgb_model = Pipeline([\n",
    "            ('sampler', RandomUnderSampler(sampling_strategy=sampling_ratio, random_state=seed)),\n",
    "            ('classifier', lgb.LGBMClassifier(**lgb_params)),\n",
    "        ])\n",
    "        lgb_model.fit(_df_train[selected_features], _df_train[\"target\"])\n",
    "\n",
    "        preds = lgb_model.predict_proba(_df_valid[selected_features])[:, 1]\n",
    "        score = comp_score(_df_valid[[\"target\"]], pd.DataFrame(preds, columns=[\"prediction\"]), \"\")\n",
    "        print(f\"fold: {fold} - Partial AUC Score: {score:.5f}\")\n",
    "        lgb_models.append(lgb_model)\n",
    "\n",
    "        # Collect out-of-fold predictions\n",
    "        oof_single = _df_valid[[\"isic_id\", \"target\"]].copy()\n",
    "        oof_single[\"pred\"] = preds\n",
    "        oof_df = pd.concat([oof_df, oof_single])\n",
    "\n",
    "        # SHAP values calculation\n",
    "        lgb_model_step = lgb_model.named_steps['classifier']  # Access LightGBM model from the pipeline\n",
    "        explainer = shap.TreeExplainer(lgb_model_step)\n",
    "        lgbm_shap_values = explainer.shap_values(_df_valid[selected_features])[1]\n",
    "        lgbm_shap_values_list.append(lgbm_shap_values)\n",
    "\n",
    "    # Aggregate SHAP values across all folds\n",
    "    shap_values_array = np.vstack(lgbm_shap_values_list)\n",
    "    mean_abs_shap_values = np.mean(np.abs(shap_values_array), axis=0)\n",
    "\n",
    "    # Create a DataFrame to rank features by SHAP importance\n",
    "    shap_importance_df = pd.DataFrame({\n",
    "        'feature': selected_features,\n",
    "        'mean_abs_shap_value': mean_abs_shap_values\n",
    "    }).sort_values(by='mean_abs_shap_value', ascending=False)\n",
    "\n",
    "    # Define the range of N_TOP_FEATURES to evaluate\n",
    "    feature_range = range(3, len(selected_features), 3)  # Evaluate every 10 features up to the number of selected features\n",
    "    feature_perf_scores = {}\n",
    "\n",
    "    # Evaluate performance for different numbers of top features\n",
    "    for N_TOP_FEATURES in tqdm(feature_range, desc=\"Evaluating N_TOP_FEATURES\"):\n",
    "        selected_features_subset = shap_importance_df['feature'].head(N_TOP_FEATURES).tolist()\n",
    "\n",
    "        # Cross-validate using only top N_TOP_FEATURES\n",
    "        fold_scores = []\n",
    "        for fold in range(N_SPLITS):\n",
    "            _df_train = df_train[df_train[\"fold\"] != fold].reset_index(drop=True)\n",
    "            _df_valid = df_train[df_train[\"fold\"] == fold].reset_index(drop=True)\n",
    "\n",
    "            # Model pipeline with selected features only\n",
    "            lgb_model = Pipeline([\n",
    "                ('sampler', RandomUnderSampler(sampling_strategy=sampling_ratio, random_state=seed)),\n",
    "                ('classifier', lgb.LGBMClassifier(**lgb_params)),\n",
    "            ])\n",
    "            lgb_model.fit(_df_train[selected_features_subset], _df_train[\"target\"])\n",
    "\n",
    "            preds = lgb_model.predict_proba(_df_valid[selected_features_subset])[:, 1]\n",
    "            score = comp_score(_df_valid[[\"target\"]], pd.DataFrame(preds, columns=[\"prediction\"]), \"\")\n",
    "            \n",
    "            \n",
    "            oof_single = _df_valid[[\"isic_id\", \"target\"]].copy()\n",
    "            oof_single[\"pred\"] = preds\n",
    "            oof_df = pd.concat([oof_df, oof_single])\n",
    "\n",
    "        # Store the average performance score for the current N_TOP_FEATURES\n",
    "        lgbm_score_oof = comp_score(oof_df[\"target\"], oof_df[\"pred\"], \"\")\n",
    "        feature_perf_scores[N_TOP_FEATURES] = lgbm_score_oof\n",
    "        print(f\"Top {N_TOP_FEATURES} features: OOF LGBM Partial AUC Score: {lgbm_score_oof:.5f}\")\n",
    "\n",
    "    # Find the optimal N_TOP_FEATURES\n",
    "    optimal_features = max(feature_perf_scores, key=feature_perf_scores.get)\n",
    "    print(f\"Optimal number of top features: {optimal_features} with Partial AUC Score: {feature_perf_scores[optimal_features]:.5f}\")\n",
    "\n",
    "    # Select the optimal features\n",
    "    lgbm_selected_features = shap_importance_df['feature'].head(optimal_features).tolist()\n",
    "    print(f\"Selected top {optimal_features} features: {lgbm_selected_features}\")\n",
    "\n",
    "    # Save the optimal SHAP values list and selected features to files\n",
    "    with open('lgbm_shap_values_list.pkl', 'wb') as f:\n",
    "        pickle.dump(lgbm_shap_values_list, f)\n",
    "    with open(f'lgbm_selected_features.pkl_{optimal_features}', 'wb') as f:\n",
    "        pickle.dump(lgbm_selected_features, f)"
   ]
  },
  {
   "cell_type": "code",
   "execution_count": 20,
   "id": "0af988d4",
   "metadata": {
    "execution": {
     "iopub.execute_input": "2024-09-05T18:09:00.645220Z",
     "iopub.status.busy": "2024-09-05T18:09:00.644779Z",
     "iopub.status.idle": "2024-09-05T18:09:00.661809Z",
     "shell.execute_reply": "2024-09-05T18:09:00.660605Z"
    },
    "papermill": {
     "duration": 0.117317,
     "end_time": "2024-09-05T18:09:00.664112",
     "exception": false,
     "start_time": "2024-09-05T18:09:00.546795",
     "status": "completed"
    },
    "tags": []
   },
   "outputs": [],
   "source": [
    "if SHAP_CB:\n",
    "\n",
    "    cb_scores = []\n",
    "    cb_models = []\n",
    "    oof_df = pd.DataFrame()\n",
    "    cb_shap_values_list = []\n",
    "\n",
    "    for fold in range(N_SPLITS):\n",
    "        _df_train = df_train[df_train[\"fold\"] != fold].reset_index(drop=True)\n",
    "        _df_valid = df_train[df_train[\"fold\"] == fold].reset_index(drop=True)\n",
    "\n",
    "        cb_model = Pipeline([\n",
    "              ('sampler', RandomUnderSampler(sampling_strategy=sampling_ratio, random_state=seed)),\n",
    "              ('classifier', cb.CatBoostClassifier(**cb_params)),\n",
    "          ])\n",
    "\n",
    "        cb_model.fit(_df_train[selected_features], _df_train[\"target\"])\n",
    "        preds = cb_model.predict_proba(_df_valid[selected_features])[:, 1]\n",
    "        score = comp_score(_df_valid[[\"target\"]], pd.DataFrame(preds, columns=[\"prediction\"]), \"\")\n",
    "\n",
    "        print(f\"fold: {fold} - Partial AUC Score: {score:.5f}\")\n",
    "        cb_models.append(cb_model)\n",
    "        oof_single = _df_valid[[\"isic_id\", \"target\"]].copy()\n",
    "        oof_single[\"pred\"] = preds\n",
    "        oof_df = pd.concat([oof_df, oof_single])\n",
    "\n",
    "          # SHAP values calculation\n",
    "        cb_model_step = cb_model.named_steps['classifier']\n",
    "        explainer = shap.TreeExplainer(cb_model_step)\n",
    "        cb_shap_values = explainer.shap_values(_df_valid[selected_features])[1]\n",
    "        cb_shap_values_list.append(cb_shap_values)\n",
    "\n",
    "    shap_values_array = np.vstack(cb_shap_values_list)\n",
    "    mean_abs_shap_values = np.mean(np.abs(shap_values_array), axis=0)\n",
    "\n",
    "    shap_importance_df = pd.DataFrame({\n",
    "          'feature': selected_features,\n",
    "          'mean_abs_shap_value': mean_abs_shap_values\n",
    "    }).sort_values(by='mean_abs_shap_value', ascending=False)\n",
    "\n",
    "    feature_range = range(3, len(selected_features), 3)\n",
    "    feature_perf_scores = {}\n",
    "\n",
    "    for N_TOP_FEATURES in tqdm(feature_range, desc=\"Evaluating N_TOP_FEATURES\"):\n",
    "        selected_features_subset = shap_importance_df['feature'].head(N_TOP_FEATURES).tolist()\n",
    "\n",
    "        fold_scores = []\n",
    "        for fold in range(N_SPLITS):\n",
    "            _df_train = df_train[df_train[\"fold\"] != fold].reset_index(drop=True)\n",
    "            _df_valid = df_train[df_train[\"fold\"] == fold].reset_index(drop=True)\n",
    "\n",
    "            cb_model = Pipeline([\n",
    "                  ('sampler', RandomUnderSampler(sampling_strategy=sampling_ratio, random_state=seed)),\n",
    "                  ('classifier', cb.CatBoostClassifier(**cb_params)),\n",
    "            ])\n",
    "            cb_model.fit(_df_train[selected_features_subset], _df_train[\"target\"])\n",
    "            preds = cb_model.predict_proba(_df_valid[selected_features_subset])[:, 1]\n",
    "            score = comp_score(_df_valid[[\"target\"]], pd.DataFrame(preds, columns=[\"prediction\"]), \"\")\n",
    "            \n",
    "                        \n",
    "            oof_single = _df_valid[[\"isic_id\", \"target\"]].copy()\n",
    "            oof_single[\"pred\"] = preds\n",
    "            oof_df = pd.concat([oof_df, oof_single])\n",
    "\n",
    "        cb_score_oof = comp_score(oof_df[\"target\"], oof_df[\"pred\"], \"\")\n",
    "        feature_perf_scores[N_TOP_FEATURES] = cb_score_oof\n",
    "        print(f\"Top {N_TOP_FEATURES} features: Average Partial AUC Score: {cb_score_oof:.5f}\")\n",
    "\n",
    "    optimal_features = max(feature_perf_scores, key=feature_perf_scores.get)\n",
    "    print(f\"Optimal number of top features: {optimal_features} with Partial AUC Score: {feature_perf_scores[optimal_features]:.5f}\")\n",
    "\n",
    "    cb_selected_features = shap_importance_df['feature'].head(optimal_features).tolist()\n",
    "    print(f\"Selected top {optimal_features} features: {cb_selected_features}\")\n",
    "\n",
    "    with open('cb_shap_values_list.pkl', 'wb') as f:\n",
    "        pickle.dump(cb_shap_values_list, f)\n",
    "\n",
    "    with open(f'cb_selected_features.pkl_{optimal_features}', 'wb') as f:\n",
    "        pickle.dump(cb_selected_features, f)\n"
   ]
  },
  {
   "cell_type": "code",
   "execution_count": 21,
   "id": "90d61fc7",
   "metadata": {
    "execution": {
     "iopub.execute_input": "2024-09-05T18:09:00.863311Z",
     "iopub.status.busy": "2024-09-05T18:09:00.862876Z",
     "iopub.status.idle": "2024-09-05T20:14:04.365694Z",
     "shell.execute_reply": "2024-09-05T20:14:04.364217Z"
    },
    "papermill": {
     "duration": 7503.713221,
     "end_time": "2024-09-05T20:14:04.476711",
     "exception": false,
     "start_time": "2024-09-05T18:09:00.763490",
     "status": "completed"
    },
    "tags": []
   },
   "outputs": [
    {
     "name": "stdout",
     "output_type": "stream",
     "text": [
      "fold: 0 - Partial AUC Score: 0.18033\n",
      "fold: 1 - Partial AUC Score: 0.17732\n",
      "fold: 2 - Partial AUC Score: 0.18803\n",
      "fold: 3 - Partial AUC Score: 0.17892\n",
      "fold: 4 - Partial AUC Score: 0.18830\n"
     ]
    },
    {
     "name": "stderr",
     "output_type": "stream",
     "text": [
      "Evaluating N_TOP_FEATURES:   1%|▏         | 1/79 [00:26<34:15, 26.35s/it]"
     ]
    },
    {
     "name": "stdout",
     "output_type": "stream",
     "text": [
      "Top 3 features: Average Partial AUC Score: 0.16778\n"
     ]
    },
    {
     "name": "stderr",
     "output_type": "stream",
     "text": [
      "Evaluating N_TOP_FEATURES:   3%|▎         | 2/79 [00:50<32:05, 25.00s/it]"
     ]
    },
    {
     "name": "stdout",
     "output_type": "stream",
     "text": [
      "Top 6 features: Average Partial AUC Score: 0.16695\n"
     ]
    },
    {
     "name": "stderr",
     "output_type": "stream",
     "text": [
      "Evaluating N_TOP_FEATURES:   4%|▍         | 3/79 [01:16<32:11, 25.41s/it]"
     ]
    },
    {
     "name": "stdout",
     "output_type": "stream",
     "text": [
      "Top 9 features: Average Partial AUC Score: 0.16733\n"
     ]
    },
    {
     "name": "stderr",
     "output_type": "stream",
     "text": [
      "Evaluating N_TOP_FEATURES:   5%|▌         | 4/79 [01:43<32:49, 26.26s/it]"
     ]
    },
    {
     "name": "stdout",
     "output_type": "stream",
     "text": [
      "Top 12 features: Average Partial AUC Score: 0.16925\n"
     ]
    },
    {
     "name": "stderr",
     "output_type": "stream",
     "text": [
      "Evaluating N_TOP_FEATURES:   6%|▋         | 5/79 [02:12<33:38, 27.28s/it]"
     ]
    },
    {
     "name": "stdout",
     "output_type": "stream",
     "text": [
      "Top 15 features: Average Partial AUC Score: 0.17077\n"
     ]
    },
    {
     "name": "stderr",
     "output_type": "stream",
     "text": [
      "Evaluating N_TOP_FEATURES:   8%|▊         | 6/79 [02:44<35:04, 28.83s/it]"
     ]
    },
    {
     "name": "stdout",
     "output_type": "stream",
     "text": [
      "Top 18 features: Average Partial AUC Score: 0.17200\n"
     ]
    },
    {
     "name": "stderr",
     "output_type": "stream",
     "text": [
      "Evaluating N_TOP_FEATURES:   9%|▉         | 7/79 [03:18<36:20, 30.28s/it]"
     ]
    },
    {
     "name": "stdout",
     "output_type": "stream",
     "text": [
      "Top 21 features: Average Partial AUC Score: 0.17299\n"
     ]
    },
    {
     "name": "stderr",
     "output_type": "stream",
     "text": [
      "Evaluating N_TOP_FEATURES:  10%|█         | 8/79 [03:51<36:54, 31.19s/it]"
     ]
    },
    {
     "name": "stdout",
     "output_type": "stream",
     "text": [
      "Top 24 features: Average Partial AUC Score: 0.17372\n"
     ]
    },
    {
     "name": "stderr",
     "output_type": "stream",
     "text": [
      "Evaluating N_TOP_FEATURES:  11%|█▏        | 9/79 [04:25<37:35, 32.23s/it]"
     ]
    },
    {
     "name": "stdout",
     "output_type": "stream",
     "text": [
      "Top 27 features: Average Partial AUC Score: 0.17433\n"
     ]
    },
    {
     "name": "stderr",
     "output_type": "stream",
     "text": [
      "Evaluating N_TOP_FEATURES:  13%|█▎        | 10/79 [05:02<38:38, 33.60s/it]"
     ]
    },
    {
     "name": "stdout",
     "output_type": "stream",
     "text": [
      "Top 30 features: Average Partial AUC Score: 0.17492\n"
     ]
    },
    {
     "name": "stderr",
     "output_type": "stream",
     "text": [
      "Evaluating N_TOP_FEATURES:  14%|█▍        | 11/79 [05:41<40:01, 35.31s/it]"
     ]
    },
    {
     "name": "stdout",
     "output_type": "stream",
     "text": [
      "Top 33 features: Average Partial AUC Score: 0.17542\n"
     ]
    },
    {
     "name": "stderr",
     "output_type": "stream",
     "text": [
      "Evaluating N_TOP_FEATURES:  15%|█▌        | 12/79 [06:22<41:14, 36.93s/it]"
     ]
    },
    {
     "name": "stdout",
     "output_type": "stream",
     "text": [
      "Top 36 features: Average Partial AUC Score: 0.17582\n"
     ]
    },
    {
     "name": "stderr",
     "output_type": "stream",
     "text": [
      "Evaluating N_TOP_FEATURES:  16%|█▋        | 13/79 [07:04<42:19, 38.47s/it]"
     ]
    },
    {
     "name": "stdout",
     "output_type": "stream",
     "text": [
      "Top 39 features: Average Partial AUC Score: 0.17622\n"
     ]
    },
    {
     "name": "stderr",
     "output_type": "stream",
     "text": [
      "Evaluating N_TOP_FEATURES:  18%|█▊        | 14/79 [07:47<43:16, 39.95s/it]"
     ]
    },
    {
     "name": "stdout",
     "output_type": "stream",
     "text": [
      "Top 42 features: Average Partial AUC Score: 0.17653\n"
     ]
    },
    {
     "name": "stderr",
     "output_type": "stream",
     "text": [
      "Evaluating N_TOP_FEATURES:  19%|█▉        | 15/79 [08:32<44:11, 41.42s/it]"
     ]
    },
    {
     "name": "stdout",
     "output_type": "stream",
     "text": [
      "Top 45 features: Average Partial AUC Score: 0.17683\n"
     ]
    },
    {
     "name": "stderr",
     "output_type": "stream",
     "text": [
      "Evaluating N_TOP_FEATURES:  20%|██        | 16/79 [09:18<44:57, 42.82s/it]"
     ]
    },
    {
     "name": "stdout",
     "output_type": "stream",
     "text": [
      "Top 48 features: Average Partial AUC Score: 0.17711\n"
     ]
    },
    {
     "name": "stderr",
     "output_type": "stream",
     "text": [
      "Evaluating N_TOP_FEATURES:  22%|██▏       | 17/79 [10:06<45:53, 44.41s/it]"
     ]
    },
    {
     "name": "stdout",
     "output_type": "stream",
     "text": [
      "Top 51 features: Average Partial AUC Score: 0.17736\n"
     ]
    },
    {
     "name": "stderr",
     "output_type": "stream",
     "text": [
      "Evaluating N_TOP_FEATURES:  23%|██▎       | 18/79 [11:04<49:17, 48.48s/it]"
     ]
    },
    {
     "name": "stdout",
     "output_type": "stream",
     "text": [
      "Top 54 features: Average Partial AUC Score: 0.17757\n"
     ]
    },
    {
     "name": "stderr",
     "output_type": "stream",
     "text": [
      "Evaluating N_TOP_FEATURES:  24%|██▍       | 19/79 [11:58<50:00, 50.01s/it]"
     ]
    },
    {
     "name": "stdout",
     "output_type": "stream",
     "text": [
      "Top 57 features: Average Partial AUC Score: 0.17779\n"
     ]
    },
    {
     "name": "stderr",
     "output_type": "stream",
     "text": [
      "Evaluating N_TOP_FEATURES:  25%|██▌       | 20/79 [12:51<50:14, 51.10s/it]"
     ]
    },
    {
     "name": "stdout",
     "output_type": "stream",
     "text": [
      "Top 60 features: Average Partial AUC Score: 0.17797\n"
     ]
    },
    {
     "name": "stderr",
     "output_type": "stream",
     "text": [
      "Evaluating N_TOP_FEATURES:  27%|██▋       | 21/79 [13:46<50:31, 52.26s/it]"
     ]
    },
    {
     "name": "stdout",
     "output_type": "stream",
     "text": [
      "Top 63 features: Average Partial AUC Score: 0.17816\n"
     ]
    },
    {
     "name": "stderr",
     "output_type": "stream",
     "text": [
      "Evaluating N_TOP_FEATURES:  28%|██▊       | 22/79 [14:44<51:10, 53.86s/it]"
     ]
    },
    {
     "name": "stdout",
     "output_type": "stream",
     "text": [
      "Top 66 features: Average Partial AUC Score: 0.17829\n"
     ]
    },
    {
     "name": "stderr",
     "output_type": "stream",
     "text": [
      "Evaluating N_TOP_FEATURES:  29%|██▉       | 23/79 [15:42<51:25, 55.10s/it]"
     ]
    },
    {
     "name": "stdout",
     "output_type": "stream",
     "text": [
      "Top 69 features: Average Partial AUC Score: 0.17844\n"
     ]
    },
    {
     "name": "stderr",
     "output_type": "stream",
     "text": [
      "Evaluating N_TOP_FEATURES:  30%|███       | 24/79 [16:43<52:12, 56.95s/it]"
     ]
    },
    {
     "name": "stdout",
     "output_type": "stream",
     "text": [
      "Top 72 features: Average Partial AUC Score: 0.17856\n"
     ]
    },
    {
     "name": "stderr",
     "output_type": "stream",
     "text": [
      "Evaluating N_TOP_FEATURES:  32%|███▏      | 25/79 [17:45<52:38, 58.49s/it]"
     ]
    },
    {
     "name": "stdout",
     "output_type": "stream",
     "text": [
      "Top 75 features: Average Partial AUC Score: 0.17869\n"
     ]
    },
    {
     "name": "stderr",
     "output_type": "stream",
     "text": [
      "Evaluating N_TOP_FEATURES:  33%|███▎      | 26/79 [18:48<52:50, 59.81s/it]"
     ]
    },
    {
     "name": "stdout",
     "output_type": "stream",
     "text": [
      "Top 78 features: Average Partial AUC Score: 0.17878\n"
     ]
    },
    {
     "name": "stderr",
     "output_type": "stream",
     "text": [
      "Evaluating N_TOP_FEATURES:  34%|███▍      | 27/79 [19:53<53:02, 61.21s/it]"
     ]
    },
    {
     "name": "stdout",
     "output_type": "stream",
     "text": [
      "Top 81 features: Average Partial AUC Score: 0.17889\n"
     ]
    },
    {
     "name": "stderr",
     "output_type": "stream",
     "text": [
      "Evaluating N_TOP_FEATURES:  35%|███▌      | 28/79 [21:04<54:38, 64.28s/it]"
     ]
    },
    {
     "name": "stdout",
     "output_type": "stream",
     "text": [
      "Top 84 features: Average Partial AUC Score: 0.17900\n"
     ]
    },
    {
     "name": "stderr",
     "output_type": "stream",
     "text": [
      "Evaluating N_TOP_FEATURES:  37%|███▋      | 29/79 [22:16<55:33, 66.66s/it]"
     ]
    },
    {
     "name": "stdout",
     "output_type": "stream",
     "text": [
      "Top 87 features: Average Partial AUC Score: 0.17907\n"
     ]
    },
    {
     "name": "stderr",
     "output_type": "stream",
     "text": [
      "Evaluating N_TOP_FEATURES:  38%|███▊      | 30/79 [23:26<55:13, 67.63s/it]"
     ]
    },
    {
     "name": "stdout",
     "output_type": "stream",
     "text": [
      "Top 90 features: Average Partial AUC Score: 0.17913\n"
     ]
    },
    {
     "name": "stderr",
     "output_type": "stream",
     "text": [
      "Evaluating N_TOP_FEATURES:  39%|███▉      | 31/79 [24:38<55:06, 68.88s/it]"
     ]
    },
    {
     "name": "stdout",
     "output_type": "stream",
     "text": [
      "Top 93 features: Average Partial AUC Score: 0.17922\n"
     ]
    },
    {
     "name": "stderr",
     "output_type": "stream",
     "text": [
      "Evaluating N_TOP_FEATURES:  41%|████      | 32/79 [25:51<54:51, 70.03s/it]"
     ]
    },
    {
     "name": "stdout",
     "output_type": "stream",
     "text": [
      "Top 96 features: Average Partial AUC Score: 0.17930\n"
     ]
    },
    {
     "name": "stderr",
     "output_type": "stream",
     "text": [
      "Evaluating N_TOP_FEATURES:  42%|████▏     | 33/79 [27:07<55:06, 71.87s/it]"
     ]
    },
    {
     "name": "stdout",
     "output_type": "stream",
     "text": [
      "Top 99 features: Average Partial AUC Score: 0.17937\n"
     ]
    },
    {
     "name": "stderr",
     "output_type": "stream",
     "text": [
      "Evaluating N_TOP_FEATURES:  43%|████▎     | 34/79 [28:23<54:59, 73.32s/it]"
     ]
    },
    {
     "name": "stdout",
     "output_type": "stream",
     "text": [
      "Top 102 features: Average Partial AUC Score: 0.17942\n"
     ]
    },
    {
     "name": "stderr",
     "output_type": "stream",
     "text": [
      "Evaluating N_TOP_FEATURES:  44%|████▍     | 35/79 [29:43<55:12, 75.28s/it]"
     ]
    },
    {
     "name": "stdout",
     "output_type": "stream",
     "text": [
      "Top 105 features: Average Partial AUC Score: 0.17949\n"
     ]
    },
    {
     "name": "stderr",
     "output_type": "stream",
     "text": [
      "Evaluating N_TOP_FEATURES:  46%|████▌     | 36/79 [31:09<56:13, 78.46s/it]"
     ]
    },
    {
     "name": "stdout",
     "output_type": "stream",
     "text": [
      "Top 108 features: Average Partial AUC Score: 0.17956\n"
     ]
    },
    {
     "name": "stderr",
     "output_type": "stream",
     "text": [
      "Evaluating N_TOP_FEATURES:  47%|████▋     | 37/79 [32:35<56:26, 80.64s/it]"
     ]
    },
    {
     "name": "stdout",
     "output_type": "stream",
     "text": [
      "Top 111 features: Average Partial AUC Score: 0.17961\n"
     ]
    },
    {
     "name": "stderr",
     "output_type": "stream",
     "text": [
      "Evaluating N_TOP_FEATURES:  48%|████▊     | 38/79 [33:59<55:52, 81.76s/it]"
     ]
    },
    {
     "name": "stdout",
     "output_type": "stream",
     "text": [
      "Top 114 features: Average Partial AUC Score: 0.17966\n"
     ]
    },
    {
     "name": "stderr",
     "output_type": "stream",
     "text": [
      "Evaluating N_TOP_FEATURES:  49%|████▉     | 39/79 [35:24<55:09, 82.75s/it]"
     ]
    },
    {
     "name": "stdout",
     "output_type": "stream",
     "text": [
      "Top 117 features: Average Partial AUC Score: 0.17969\n"
     ]
    },
    {
     "name": "stderr",
     "output_type": "stream",
     "text": [
      "Evaluating N_TOP_FEATURES:  51%|█████     | 40/79 [36:51<54:36, 84.00s/it]"
     ]
    },
    {
     "name": "stdout",
     "output_type": "stream",
     "text": [
      "Top 120 features: Average Partial AUC Score: 0.17972\n"
     ]
    },
    {
     "name": "stderr",
     "output_type": "stream",
     "text": [
      "Evaluating N_TOP_FEATURES:  52%|█████▏    | 41/79 [38:24<54:50, 86.58s/it]"
     ]
    },
    {
     "name": "stdout",
     "output_type": "stream",
     "text": [
      "Top 123 features: Average Partial AUC Score: 0.17976\n"
     ]
    },
    {
     "name": "stderr",
     "output_type": "stream",
     "text": [
      "Evaluating N_TOP_FEATURES:  53%|█████▎    | 42/79 [39:56<54:22, 88.19s/it]"
     ]
    },
    {
     "name": "stdout",
     "output_type": "stream",
     "text": [
      "Top 126 features: Average Partial AUC Score: 0.17980\n"
     ]
    },
    {
     "name": "stderr",
     "output_type": "stream",
     "text": [
      "Evaluating N_TOP_FEATURES:  54%|█████▍    | 43/79 [41:38<55:22, 92.29s/it]"
     ]
    },
    {
     "name": "stdout",
     "output_type": "stream",
     "text": [
      "Top 129 features: Average Partial AUC Score: 0.17985\n"
     ]
    },
    {
     "name": "stderr",
     "output_type": "stream",
     "text": [
      "Evaluating N_TOP_FEATURES:  56%|█████▌    | 44/79 [43:18<55:10, 94.59s/it]"
     ]
    },
    {
     "name": "stdout",
     "output_type": "stream",
     "text": [
      "Top 132 features: Average Partial AUC Score: 0.17989\n"
     ]
    },
    {
     "name": "stderr",
     "output_type": "stream",
     "text": [
      "Evaluating N_TOP_FEATURES:  57%|█████▋    | 45/79 [44:56<54:17, 95.80s/it]"
     ]
    },
    {
     "name": "stdout",
     "output_type": "stream",
     "text": [
      "Top 135 features: Average Partial AUC Score: 0.17993\n"
     ]
    },
    {
     "name": "stderr",
     "output_type": "stream",
     "text": [
      "Evaluating N_TOP_FEATURES:  58%|█████▊    | 46/79 [46:34<53:04, 96.51s/it]"
     ]
    },
    {
     "name": "stdout",
     "output_type": "stream",
     "text": [
      "Top 138 features: Average Partial AUC Score: 0.17995\n"
     ]
    },
    {
     "name": "stderr",
     "output_type": "stream",
     "text": [
      "Evaluating N_TOP_FEATURES:  59%|█████▉    | 47/79 [48:18<52:39, 98.73s/it]"
     ]
    },
    {
     "name": "stdout",
     "output_type": "stream",
     "text": [
      "Top 141 features: Average Partial AUC Score: 0.17998\n"
     ]
    },
    {
     "name": "stderr",
     "output_type": "stream",
     "text": [
      "Evaluating N_TOP_FEATURES:  61%|██████    | 48/79 [50:01<51:36, 99.90s/it]"
     ]
    },
    {
     "name": "stdout",
     "output_type": "stream",
     "text": [
      "Top 144 features: Average Partial AUC Score: 0.18002\n"
     ]
    },
    {
     "name": "stderr",
     "output_type": "stream",
     "text": [
      "Evaluating N_TOP_FEATURES:  62%|██████▏   | 49/79 [51:52<51:36, 103.23s/it]"
     ]
    },
    {
     "name": "stdout",
     "output_type": "stream",
     "text": [
      "Top 147 features: Average Partial AUC Score: 0.18004\n"
     ]
    },
    {
     "name": "stderr",
     "output_type": "stream",
     "text": [
      "Evaluating N_TOP_FEATURES:  63%|██████▎   | 50/79 [53:44<51:09, 105.83s/it]"
     ]
    },
    {
     "name": "stdout",
     "output_type": "stream",
     "text": [
      "Top 150 features: Average Partial AUC Score: 0.18007\n"
     ]
    },
    {
     "name": "stderr",
     "output_type": "stream",
     "text": [
      "Evaluating N_TOP_FEATURES:  65%|██████▍   | 51/79 [55:35<50:03, 107.27s/it]"
     ]
    },
    {
     "name": "stdout",
     "output_type": "stream",
     "text": [
      "Top 153 features: Average Partial AUC Score: 0.18011\n"
     ]
    },
    {
     "name": "stderr",
     "output_type": "stream",
     "text": [
      "Evaluating N_TOP_FEATURES:  66%|██████▌   | 52/79 [57:25<48:39, 108.14s/it]"
     ]
    },
    {
     "name": "stdout",
     "output_type": "stream",
     "text": [
      "Top 156 features: Average Partial AUC Score: 0.18013\n"
     ]
    },
    {
     "name": "stderr",
     "output_type": "stream",
     "text": [
      "Evaluating N_TOP_FEATURES:  67%|██████▋   | 53/79 [59:18<47:28, 109.57s/it]"
     ]
    },
    {
     "name": "stdout",
     "output_type": "stream",
     "text": [
      "Top 159 features: Average Partial AUC Score: 0.18016\n"
     ]
    },
    {
     "name": "stderr",
     "output_type": "stream",
     "text": [
      "Evaluating N_TOP_FEATURES:  68%|██████▊   | 54/79 [1:01:13<46:23, 111.32s/it]"
     ]
    },
    {
     "name": "stdout",
     "output_type": "stream",
     "text": [
      "Top 162 features: Average Partial AUC Score: 0.18018\n"
     ]
    },
    {
     "name": "stderr",
     "output_type": "stream",
     "text": [
      "Evaluating N_TOP_FEATURES:  70%|██████▉   | 55/79 [1:03:25<47:01, 117.56s/it]"
     ]
    },
    {
     "name": "stdout",
     "output_type": "stream",
     "text": [
      "Top 165 features: Average Partial AUC Score: 0.18021\n"
     ]
    },
    {
     "name": "stderr",
     "output_type": "stream",
     "text": [
      "Evaluating N_TOP_FEATURES:  71%|███████   | 56/79 [1:05:23<45:07, 117.73s/it]"
     ]
    },
    {
     "name": "stdout",
     "output_type": "stream",
     "text": [
      "Top 168 features: Average Partial AUC Score: 0.18023\n"
     ]
    },
    {
     "name": "stderr",
     "output_type": "stream",
     "text": [
      "Evaluating N_TOP_FEATURES:  72%|███████▏  | 57/79 [1:07:26<43:42, 119.23s/it]"
     ]
    },
    {
     "name": "stdout",
     "output_type": "stream",
     "text": [
      "Top 171 features: Average Partial AUC Score: 0.18024\n"
     ]
    },
    {
     "name": "stderr",
     "output_type": "stream",
     "text": [
      "Evaluating N_TOP_FEATURES:  73%|███████▎  | 58/79 [1:09:29<42:10, 120.51s/it]"
     ]
    },
    {
     "name": "stdout",
     "output_type": "stream",
     "text": [
      "Top 174 features: Average Partial AUC Score: 0.18026\n"
     ]
    },
    {
     "name": "stderr",
     "output_type": "stream",
     "text": [
      "Evaluating N_TOP_FEATURES:  75%|███████▍  | 59/79 [1:11:36<40:46, 122.31s/it]"
     ]
    },
    {
     "name": "stdout",
     "output_type": "stream",
     "text": [
      "Top 177 features: Average Partial AUC Score: 0.18026\n"
     ]
    },
    {
     "name": "stderr",
     "output_type": "stream",
     "text": [
      "Evaluating N_TOP_FEATURES:  76%|███████▌  | 60/79 [1:13:54<40:11, 126.90s/it]"
     ]
    },
    {
     "name": "stdout",
     "output_type": "stream",
     "text": [
      "Top 180 features: Average Partial AUC Score: 0.18028\n"
     ]
    },
    {
     "name": "stderr",
     "output_type": "stream",
     "text": [
      "Evaluating N_TOP_FEATURES:  77%|███████▋  | 61/79 [1:16:03<38:16, 127.61s/it]"
     ]
    },
    {
     "name": "stdout",
     "output_type": "stream",
     "text": [
      "Top 183 features: Average Partial AUC Score: 0.18029\n"
     ]
    },
    {
     "name": "stderr",
     "output_type": "stream",
     "text": [
      "Evaluating N_TOP_FEATURES:  78%|███████▊  | 62/79 [1:18:15<36:30, 128.87s/it]"
     ]
    },
    {
     "name": "stdout",
     "output_type": "stream",
     "text": [
      "Top 186 features: Average Partial AUC Score: 0.18030\n"
     ]
    },
    {
     "name": "stderr",
     "output_type": "stream",
     "text": [
      "Evaluating N_TOP_FEATURES:  80%|███████▉  | 63/79 [1:20:24<34:26, 129.16s/it]"
     ]
    },
    {
     "name": "stdout",
     "output_type": "stream",
     "text": [
      "Top 189 features: Average Partial AUC Score: 0.18031\n"
     ]
    },
    {
     "name": "stderr",
     "output_type": "stream",
     "text": [
      "Evaluating N_TOP_FEATURES:  81%|████████  | 64/79 [1:22:44<33:04, 132.28s/it]"
     ]
    },
    {
     "name": "stdout",
     "output_type": "stream",
     "text": [
      "Top 192 features: Average Partial AUC Score: 0.18033\n"
     ]
    },
    {
     "name": "stderr",
     "output_type": "stream",
     "text": [
      "Evaluating N_TOP_FEATURES:  82%|████████▏ | 65/79 [1:24:59<31:05, 133.23s/it]"
     ]
    },
    {
     "name": "stdout",
     "output_type": "stream",
     "text": [
      "Top 195 features: Average Partial AUC Score: 0.18036\n"
     ]
    },
    {
     "name": "stderr",
     "output_type": "stream",
     "text": [
      "Evaluating N_TOP_FEATURES:  84%|████████▎ | 66/79 [1:27:20<29:18, 135.29s/it]"
     ]
    },
    {
     "name": "stdout",
     "output_type": "stream",
     "text": [
      "Top 198 features: Average Partial AUC Score: 0.18038\n"
     ]
    },
    {
     "name": "stderr",
     "output_type": "stream",
     "text": [
      "Evaluating N_TOP_FEATURES:  85%|████████▍ | 67/79 [1:29:37<27:12, 136.02s/it]"
     ]
    },
    {
     "name": "stdout",
     "output_type": "stream",
     "text": [
      "Top 201 features: Average Partial AUC Score: 0.18039\n"
     ]
    },
    {
     "name": "stderr",
     "output_type": "stream",
     "text": [
      "Evaluating N_TOP_FEATURES:  86%|████████▌ | 68/79 [1:31:56<25:04, 136.78s/it]"
     ]
    },
    {
     "name": "stdout",
     "output_type": "stream",
     "text": [
      "Top 204 features: Average Partial AUC Score: 0.18042\n"
     ]
    },
    {
     "name": "stderr",
     "output_type": "stream",
     "text": [
      "Evaluating N_TOP_FEATURES:  87%|████████▋ | 69/79 [1:34:33<23:48, 142.84s/it]"
     ]
    },
    {
     "name": "stdout",
     "output_type": "stream",
     "text": [
      "Top 207 features: Average Partial AUC Score: 0.18044\n"
     ]
    },
    {
     "name": "stderr",
     "output_type": "stream",
     "text": [
      "Evaluating N_TOP_FEATURES:  89%|████████▊ | 70/79 [1:36:59<21:34, 143.87s/it]"
     ]
    },
    {
     "name": "stdout",
     "output_type": "stream",
     "text": [
      "Top 210 features: Average Partial AUC Score: 0.18046\n"
     ]
    },
    {
     "name": "stderr",
     "output_type": "stream",
     "text": [
      "Evaluating N_TOP_FEATURES:  90%|████████▉ | 71/79 [1:39:25<19:15, 144.41s/it]"
     ]
    },
    {
     "name": "stdout",
     "output_type": "stream",
     "text": [
      "Top 213 features: Average Partial AUC Score: 0.18047\n"
     ]
    },
    {
     "name": "stderr",
     "output_type": "stream",
     "text": [
      "Evaluating N_TOP_FEATURES:  91%|█████████ | 72/79 [1:41:52<16:56, 145.20s/it]"
     ]
    },
    {
     "name": "stdout",
     "output_type": "stream",
     "text": [
      "Top 216 features: Average Partial AUC Score: 0.18049\n"
     ]
    },
    {
     "name": "stderr",
     "output_type": "stream",
     "text": [
      "Evaluating N_TOP_FEATURES:  92%|█████████▏| 73/79 [1:44:32<14:58, 149.67s/it]"
     ]
    },
    {
     "name": "stdout",
     "output_type": "stream",
     "text": [
      "Top 219 features: Average Partial AUC Score: 0.18051\n"
     ]
    },
    {
     "name": "stderr",
     "output_type": "stream",
     "text": [
      "Evaluating N_TOP_FEATURES:  94%|█████████▎| 74/79 [1:47:00<12:25, 149.20s/it]"
     ]
    },
    {
     "name": "stdout",
     "output_type": "stream",
     "text": [
      "Top 222 features: Average Partial AUC Score: 0.18052\n"
     ]
    },
    {
     "name": "stderr",
     "output_type": "stream",
     "text": [
      "Evaluating N_TOP_FEATURES:  95%|█████████▍| 75/79 [1:49:28<09:55, 148.77s/it]"
     ]
    },
    {
     "name": "stdout",
     "output_type": "stream",
     "text": [
      "Top 225 features: Average Partial AUC Score: 0.18054\n"
     ]
    },
    {
     "name": "stderr",
     "output_type": "stream",
     "text": [
      "Evaluating N_TOP_FEATURES:  96%|█████████▌| 76/79 [1:52:01<07:29, 149.99s/it]"
     ]
    },
    {
     "name": "stdout",
     "output_type": "stream",
     "text": [
      "Top 228 features: Average Partial AUC Score: 0.18055\n"
     ]
    },
    {
     "name": "stderr",
     "output_type": "stream",
     "text": [
      "Evaluating N_TOP_FEATURES:  97%|█████████▋| 77/79 [1:54:43<05:07, 153.80s/it]"
     ]
    },
    {
     "name": "stdout",
     "output_type": "stream",
     "text": [
      "Top 231 features: Average Partial AUC Score: 0.18057\n"
     ]
    },
    {
     "name": "stderr",
     "output_type": "stream",
     "text": [
      "Evaluating N_TOP_FEATURES:  99%|█████████▊| 78/79 [1:57:23<02:35, 155.63s/it]"
     ]
    },
    {
     "name": "stdout",
     "output_type": "stream",
     "text": [
      "Top 234 features: Average Partial AUC Score: 0.18058\n"
     ]
    },
    {
     "name": "stderr",
     "output_type": "stream",
     "text": [
      "Evaluating N_TOP_FEATURES: 100%|██████████| 79/79 [1:59:59<00:00, 91.14s/it] "
     ]
    },
    {
     "name": "stdout",
     "output_type": "stream",
     "text": [
      "Top 237 features: Average Partial AUC Score: 0.18059\n",
      "Optimal number of top features: 237 with Partial AUC Score: 0.18059\n",
      "Selected top 237 features: ['oof_predictions_effnetb0', 'age_approx_patient_rank', 'tbp_lv_H_patient_rank', 'onehot_45', 'tbp_lv_deltaB_patient_rank', 'age_normalized_nevi_confidence_2_patient_norm', 'ud_percentile_hue_contrast', 'ud_max_severity_location', 'ud_loc_tbp_lv_y', 'tbp_lv_y_patient_norm', 'ud_loc_clin_size_long_diam_mm', 'clin_size_long_diam_mm', 'tbp_lv_H_patient_norm', 'ud_loc_border_color_interaction_2', 'ud_loc_tbp_lv_z', 'tbp_lv_deltaL_patient_norm', 'ud_percentile_age_approx', 'tbp_lv_deltaL_patient_rank', 'ud_consistency_location', 'color_uniformity_patient_norm', 'tbp_lv_y_patient_rank', 'tbp_lv_Aext', 'ud_loc_hue_contrast', 'tbp_lv_nevi_confidence', 'ud_loc_mean_hue_difference', 'age_approx', 'ud_loc_tbp_lv_eccentricity', 'lesion_orientation_3d_patient_minmax', 'tbp_lv_Hext_patient_minmax', 'tbp_lv_H_patient_minmax', 'tbp_lv_stdLExt_patient_minmax', 'ud_loc_lesion_size_ratio', 'tbp_lv_eccentricity_patient_rank', 'lesion_orientation_3d_patient_norm', 'ud_loc_overall_color_difference', 'ud_loc_index_age_size_symmetry', 'ud_loc_tbp_lv_nevi_confidence', 'tbp_lv_areaMM2_patient_norm', 'overall_color_difference_patient_minmax', 'ud_percentile_clin_size_long_diam_mm', 'age_normalized_nevi_confidence_2_patient_minmax', 'hue_contrast_patient_norm', 'tbp_lv_deltaA_patient_minmax', 'ud_loc_tbp_lv_Cext', 'tbp_lv_A_patient_norm', 'ud_loc_color_uniformity', 'ud_loc_lesion_severity_index', 'clin_size_long_diam_mm_patient_rank', 'tbp_lv_L', 'color_uniformity', 'tbp_lv_deltaB_patient_norm', 'color_uniformity_patient_rank', 'mean_hue_difference_patient_minmax', 'ud_loc_tbp_lv_L', 'tbp_lv_eccentricity', 'tbp_lv_area_perim_ratio_patient_norm', 'area_to_perimeter_ratio_patient_minmax', 'ud_percentile_color_uniformity', 'ud_loc_tbp_lv_deltaB', 'tbp_lv_deltaB_patient_minmax', 'area_to_perimeter_ratio', 'tbp_lv_deltaL', 'onehot_40', 'tbp_lv_Aext_patient_norm', 'ud_loc_tbp_lv_Hext', 'tbp_lv_y', 'ud_percentile_tbp_lv_deltaA', 'tbp_lv_deltaLBnorm', 'tbp_lv_A_patient_rank', 'color_contrast_index', 'ud_loc_tbp_lv_stdL', 'tbp_lv_B_patient_rank', 'tbp_lv_z_patient_rank', 'clin_size_long_diam_mm_patient_minmax', 'tbp_lv_areaMM2', 'ud_percentile_volume_approximation_3d', 'hue_contrast', 'tbp_lv_y_patient_sum_ratio', 'ud_loc_symmetry_perimeter_interaction', 'tbp_lv_symm_2axis_angle_patient_sum_ratio', 'tbp_lv_Hext_patient_norm', 'ud_loc_tbp_lv_deltaL', 'tbp_lv_deltaB', 'color_uniformity_patient_sum_ratio', 'tbp_lv_deltaA_patient_norm', 'overall_color_difference', 'lesion_severity_index', 'ud_loc_tbp_lv_H', 'age_approx_patient_minmax', 'tbp_lv_x', 'ud_loc_perimeter_to_area_ratio', 'volume_approximation_3d_patient_norm', 'ud_loc_tbp_lv_deltaA', 'hue_contrast_patient_minmax', 'color_consistency', 'overall_color_difference_patient_sum_ratio', 'ud_loc_tbp_lv_Lext', 'ud_loc_tbp_lv_x', 'tbp_lv_area_perim_ratio_patient_rank', 'ud_loc_tbp_lv_Aext', 'ud_percentile_tbp_lv_stdLExt', 'tbp_lv_nevi_confidence_patient_sum_ratio', 'lesion_orientation_3d', 'tbp_lv_stdLExt_patient_norm', 'ud_loc_tbp_lv_Bext', 'tbp_lv_H', 'lesion_visibility_score_patient_norm', 'normalized_lesion_size', 'tbp_lv_stdL_patient_norm', 'tbp_lv_Bext', 'tbp_lv_symm_2axis_angle_patient_rank', 'color_uniformity_patient_minmax', 'ud_loc_area_to_perimeter_ratio', 'lesion_orientation_3d_patient_rank', 'tbp_lv_x_patient_sum_ratio', 'tbp_lv_A', 'index_age_size_symmetry', 'ud_loc_color_variance_ratio', 'perimeter_to_area_ratio_patient_rank', 'ud_loc_tbp_lv_symm_2axis', 'ud_loc_color_asymmetry_index', 'ud_loc_tbp_lv_color_std_mean', 'ud_loc_size_color_contrast_ratio', 'tbp_lv_stdLExt', 'tbp_lv_B_patient_norm', 'ud_loc_tbp_lv_A', 'ud_loc_log_lesion_area', 'border_color_interaction', 'ud_percentile_border_color_interaction', 'tbp_lv_z', 'tbp_lv_norm_border_patient_norm', 'tbp_lv_z_patient_sum_ratio', 'tbp_lv_deltaB_patient_sum_ratio', 'ud_loc_age_approx', 'symmetry_perimeter_interaction', 'ud_loc_tbp_lv_B', 'tbp_lv_B', 'ud_loc_tbp_lv_minorAxisMM', 'onehot_9', 'tbp_lv_nevi_confidence_patient_norm', 'lesion_shape_index_patient_rank', 'ud_loc_color_contrast_index', 'ud_loc_tbp_lv_C', 'ud_loc_color_consistency', 'color_asymmetry_index_patient_minmax', 'tbp_lv_stdLExt_patient_rank', 'tbp_lv_Bext_patient_norm', 'tbp_lv_Hext', 'ud_loc_tbp_lv_stdLExt', 'ud_loc_tbp_lv_deltaLBnorm', 'ud_loc_tbp_lv_area_perim_ratio', 'tbp_lv_A_patient_minmax', 'tbp_lv_symm_2axis_angle', 'ud_loc_lesion_visibility_score', 'tbp_lv_Aext_patient_minmax', 'ud_loc_shape_color_consistency', 'ud_loc_tbp_lv_areaMM2', 'lesion_size_ratio_patient_rank', 'size_age_interaction', 'onehot_5', 'tbp_lv_area_perim_ratio', 'tbp_lv_L_patient_norm', 'ud_loc_border_color_interaction', 'color_variance_ratio_patient_minmax', 'tbp_lv_nevi_confidence_patient_rank', 'count_per_patient', 'tbp_lv_radial_color_std_max_patient_minmax', 'tbp_lv_x_patient_rank', 'ud_loc_tbp_lv_norm_border', 'size_color_contrast_ratio_patient_minmax', 'tbp_lv_deltaLB_patient_rank', 'tbp_lv_color_std_mean_patient_minmax', 'ud_percentile_tbp_lv_nevi_confidence', 'perimeter_to_area_ratio', 'ud_percentile_symmetry_perimeter_interaction', 'color_contrast_index_patient_minmax', 'ud_percentile_index_age_size_symmetry', 'color_contrast_index_patient_sum_ratio', 'tbp_lv_color_std_mean_patient_sum_ratio', 'hue_contrast_patient_rank', 'tbp_lv_deltaA', 'tbp_lv_deltaLBnorm_patient_minmax', 'tbp_lv_deltaA_patient_rank', 'tbp_lv_areaMM2_patient_minmax', 'age_approx_patient_sum_ratio', 'ud_loc_lesion_orientation_3d', 'index_age_size_symmetry_patient_minmax', 'age_approx_patient_norm', 'overall_color_difference_patient_norm', 'tbp_lv_color_std_mean', 'color_contrast_index_patient_norm', 'size_color_contrast_ratio', 'ud_count_location', 'onehot_44', 'ud_percentile_size_color_contrast_ratio', 'volume_approximation_3d_patient_minmax', 'ud_loc_tbp_lv_symm_2axis_angle', 'onehot_46', 'onehot_30', 'onehot_4', 'onehot_43', 'onehot_41', 'onehot_29', 'onehot_0', 'onehot_7', 'onehot_1', 'onehot_8', 'onehot_14', 'onehot_2', 'onehot_17', 'onehot_27', 'onehot_26', 'onehot_31', 'onehot_42', 'onehot_38', 'onehot_37', 'onehot_36', 'onehot_35', 'onehot_34', 'onehot_33', 'onehot_32', 'onehot_39', 'onehot_24', 'onehot_28', 'onehot_25', 'onehot_23', 'onehot_22', 'onehot_21', 'onehot_20', 'onehot_19', 'onehot_16', 'onehot_15', 'onehot_13', 'onehot_12', 'onehot_11', 'onehot_10', 'onehot_6']\n"
     ]
    },
    {
     "name": "stderr",
     "output_type": "stream",
     "text": [
      "\n"
     ]
    }
   ],
   "source": [
    "if SHAP_XGB:\n",
    "\n",
    "    # Initialize variables\n",
    "    xgb_scores = []\n",
    "    xgb_models = []\n",
    "    oof_df = pd.DataFrame()\n",
    "    xgb_shap_values_list = []\n",
    "\n",
    "    for fold in range(N_SPLITS):\n",
    "        _df_train = df_train[df_train[\"fold\"] != fold].reset_index(drop=True)\n",
    "        _df_valid = df_train[df_train[\"fold\"] == fold].reset_index(drop=True)\n",
    "\n",
    "        # Train model\n",
    "\n",
    "        xgb_model = Pipeline([\n",
    "        #     ('feature_selection', xgb_transformer),\n",
    "            ('sampler', RandomUnderSampler(sampling_strategy=sampling_ratio, random_state=seed)),\n",
    "            ('classifier', xgb.XGBClassifier(**xgb_params)),\n",
    "        ])\n",
    "        xgb_model.fit(_df_train[selected_features], _df_train[\"target\"])\n",
    "\n",
    "        preds = xgb_model.predict_proba(_df_valid[selected_features])[:, 1]\n",
    "        score = comp_score(_df_valid[[\"target\"]], pd.DataFrame(preds, columns=[\"prediction\"]), \"\")\n",
    "        print(f\"fold: {fold} - Partial AUC Score: {score:.5f}\")\n",
    "\n",
    "        xgb_models.append(xgb_model)\n",
    "\n",
    "        # Collect out-of-fold predictions\n",
    "        oof_single = _df_valid[[\"isic_id\", \"target\"]].copy()\n",
    "        oof_single[\"pred\"] = preds\n",
    "        oof_df = pd.concat([oof_df, oof_single])\n",
    "\n",
    "        # SHAP values calculation\n",
    "        xgb_model_step = xgb_model.named_steps['classifier']  # Access LightGBM model from the pipeline\n",
    "        explainer = shap.TreeExplainer(xgb_model_step)\n",
    "        xgb_shap_values = explainer.shap_values(_df_valid[selected_features])[1]\n",
    "        xgb_shap_values_list.append(xgb_shap_values)\n",
    "\n",
    "    shap_values_array = np.vstack(xgb_shap_values_list)\n",
    "    mean_abs_shap_values = np.mean(np.abs(shap_values_array), axis=0)\n",
    "\n",
    "    shap_importance_df = pd.DataFrame({\n",
    "        'feature': selected_features,\n",
    "        'mean_abs_shap_value': mean_abs_shap_values\n",
    "    }).sort_values(by='mean_abs_shap_value', ascending=False)\n",
    "\n",
    "    feature_range = range(3, len(selected_features), 3)  # Evaluate every 10 features up to the number of selected features\n",
    "    feature_perf_scores = {}\n",
    "\n",
    "    for N_TOP_FEATURES in tqdm(feature_range, desc=\"Evaluating N_TOP_FEATURES\"):\n",
    "        selected_features_subset = shap_importance_df['feature'].head(N_TOP_FEATURES).tolist()\n",
    "\n",
    "        fold_scores = []\n",
    "\n",
    "        for fold in range(N_SPLITS):\n",
    "            _df_train = df_train[df_train[\"fold\"] != fold].reset_index(drop=True)\n",
    "            _df_valid = df_train[df_train[\"fold\"] == fold].reset_index(drop=True)\n",
    "\n",
    "            xgb_model = Pipeline([\n",
    "                    ('sampler', RandomUnderSampler(sampling_strategy=sampling_ratio, random_state=seed)),\n",
    "                    ('classifier', xgb.XGBClassifier(**xgb_params)),\n",
    "            ])\n",
    "                \n",
    "            xgb_model.fit(_df_train[selected_features_subset], _df_train[\"target\"])\n",
    "\n",
    "            preds = xgb_model.predict_proba(_df_valid[selected_features_subset])[:, 1]\n",
    "            score = comp_score(_df_valid[[\"target\"]], pd.DataFrame(preds, columns=[\"prediction\"]), \"\")\n",
    "            \n",
    "            oof_single = _df_valid[[\"isic_id\", \"target\"]].copy()\n",
    "            oof_single[\"pred\"] = preds\n",
    "            oof_df = pd.concat([oof_df, oof_single])\n",
    "\n",
    "\n",
    "        xgb_score_oof = comp_score(oof_df[\"target\"], oof_df[\"pred\"], \"\")\n",
    "        feature_perf_scores[N_TOP_FEATURES] = xgb_score_oof\n",
    "        print(f\"Top {N_TOP_FEATURES} features: Average Partial AUC Score: {xgb_score_oof:.5f}\")\n",
    "\n",
    "    optimal_features = max(feature_perf_scores, key=feature_perf_scores.get)\n",
    "    print(f\"Optimal number of top features: {optimal_features} with Partial AUC Score: {feature_perf_scores[optimal_features]:.5f}\")\n",
    "\n",
    "    xgb_selected_features = shap_importance_df['feature'].head(optimal_features).tolist()\n",
    "    print(f\"Selected top {optimal_features} features: {xgb_selected_features}\")\n",
    "\n",
    "    with open('xgb_shap_values_list.pkl', 'wb') as f:\n",
    "        pickle.dump(xgb_shap_values_list, f)\n",
    "\n",
    "    with open(f'xgb_selected_features.pkl_{optimal_features}', 'wb') as f:\n",
    "        pickle.dump(xgb_selected_features, f)\n",
    "        \n",
    "                                                                "
   ]
  },
  {
   "cell_type": "markdown",
   "id": "d947cb13",
   "metadata": {
    "papermill": {
     "duration": 0.108644,
     "end_time": "2024-09-05T20:14:04.693701",
     "exception": false,
     "start_time": "2024-09-05T20:14:04.585057",
     "status": "completed"
    },
    "tags": []
   },
   "source": [
    "### SHAP Tuned Models"
   ]
  },
  {
   "cell_type": "code",
   "execution_count": 22,
   "id": "3e15498b",
   "metadata": {
    "execution": {
     "iopub.execute_input": "2024-09-05T20:14:04.912918Z",
     "iopub.status.busy": "2024-09-05T20:14:04.912241Z",
     "iopub.status.idle": "2024-09-05T20:14:04.920176Z",
     "shell.execute_reply": "2024-09-05T20:14:04.918884Z"
    },
    "papermill": {
     "duration": 0.120744,
     "end_time": "2024-09-05T20:14:04.922528",
     "exception": false,
     "start_time": "2024-09-05T20:14:04.801784",
     "status": "completed"
    },
    "tags": []
   },
   "outputs": [],
   "source": [
    "# if SHAP:\n",
    "    \n",
    "#     lgb_params = {\n",
    "#         'objective':        'binary',\n",
    "#         'verbosity':        -1,\n",
    "#         'n_iter':           200,\n",
    "#         'boosting_type':    'gbdt',\n",
    "#         'random_state':     seed,\n",
    "#         'learning_rate':    0.03105060670990981,\n",
    "#         'num_leaves':       23,\n",
    "#         'min_child_samples':80,\n",
    "#         'bagging_fraction': 0.7649096623770557,\n",
    "#         'bagging_freq':     2,\n",
    "#         'lambda_l1':        0.1092109244738963,\n",
    "#         'lambda_l2':        0.0001329432266572826,\n",
    "#         'max_depth':        4,\n",
    "#         'scale_pos_weight': 3.8792378580090796\n",
    "#     }\n",
    "\n",
    "#     lgb_scores = []\n",
    "#     lgb_models = []\n",
    "#     oof_df = pd.DataFrame()\n",
    "#     lgbm_shap_values_list = []\n",
    "\n",
    "#     for fold in range(N_SPLITS):\n",
    "#         _df_train = df_train[df_train[\"fold\"] != fold].reset_index(drop=True)\n",
    "#         _df_valid = df_train[df_train[\"fold\"] == fold].reset_index(drop=True)\n",
    "\n",
    "#         lgb_model = Pipeline([\n",
    "#         #     ('feature_selection', lgb_transformer),\n",
    "#             ('sampler', RandomUnderSampler(sampling_strategy=sampling_ratio, random_state=seed)),\n",
    "#             ('classifier', lgb.LGBMClassifier(**lgb_params)),\n",
    "#         ])\n",
    "#         lgb_model.fit(_df_train[selected_features], _df_train[\"target\"])\n",
    "\n",
    "#         preds = lgb_model.predict_proba(_df_valid[selected_features])[:, 1]\n",
    "#         score = comp_score(_df_valid[[\"target\"]], pd.DataFrame(preds, columns=[\"prediction\"]), \"\")\n",
    "#         print(f\"fold: {fold} - Partial AUC Score: {score:.5f}\")\n",
    "#         lgb_models.append(lgb_model)\n",
    "#         oof_single = _df_valid[[\"isic_id\", \"target\"]].copy()\n",
    "#         oof_single[\"pred\"] = preds\n",
    "#         oof_df = pd.concat([oof_df, oof_single])\n",
    "\n",
    "#         # SHAP values calculation for feature selection\n",
    "#         lgb_model_step = lgb_model.named_steps['classifier']  # Access the LightGBM model from the pipeline\n",
    "#         explainer = shap.TreeExplainer(lgb_model_step)\n",
    "#         lgbm_shap_values = explainer.shap_values(_df_valid[selected_features])[1]\n",
    "#         lgbm_shap_values_list.append(lgbm_shap_values)\n",
    "    \n",
    "#     # Aggregate SHAP values across all folds\n",
    "#     shap_values_array = np.vstack(lgbm_shap_values_list)\n",
    "#     mean_abs_shap_values = np.mean(np.abs(shap_values_array), axis=0)\n",
    "    \n",
    "#     # Create a DataFrame to rank features\n",
    "#     shap_importance_df = pd.DataFrame({\n",
    "#         'feature': selected_features,\n",
    "#         'mean_abs_shap_value': mean_abs_shap_values\n",
    "#     }).sort_values(by='mean_abs_shap_value', ascending=False)\n",
    "    \n",
    "#     # Select top N features based on SHAP importance\n",
    "#     N_TOP_FEATURES = 75  # Define how many top features you want to select\n",
    "#     lgbm_selected_features = shap_importance_df['feature'].head(N_TOP_FEATURES).tolist()\n",
    "    \n",
    "#     print(f\"Selected top {N_TOP_FEATURES} features: {lgbm_selected_features}\")\n",
    "    \n",
    "#     # Save SHAP values list and selected features to files\n",
    "#     with open('lgbm_shap_values_list.pkl', 'wb') as f:\n",
    "#         pickle.dump(lgbm_shap_values_list, f)\n",
    "#     with open(f'lgbm_selected_features.pkl_{N_TOP_FEATURES}', 'wb') as f:\n",
    "#         pickle.dump(lgbm_selected_features, f)"
   ]
  },
  {
   "cell_type": "code",
   "execution_count": 23,
   "id": "8cf6134a",
   "metadata": {
    "execution": {
     "iopub.execute_input": "2024-09-05T20:14:05.146029Z",
     "iopub.status.busy": "2024-09-05T20:14:05.145606Z",
     "iopub.status.idle": "2024-09-05T20:14:05.152880Z",
     "shell.execute_reply": "2024-09-05T20:14:05.151782Z"
    },
    "papermill": {
     "duration": 0.121366,
     "end_time": "2024-09-05T20:14:05.155189",
     "exception": false,
     "start_time": "2024-09-05T20:14:05.033823",
     "status": "completed"
    },
    "tags": []
   },
   "outputs": [],
   "source": [
    "# if SHAP:\n",
    "    \n",
    "#     cb_params = {\n",
    "#         'loss_function':     'Logloss',\n",
    "#         'iterations':        200,\n",
    "#         'verbose':           False,\n",
    "#         'random_state':      seed,\n",
    "# #         'cat_features':      cat_cols,\n",
    "#         'depth':             5,\n",
    "#         'learning_rate':     0.0721506164096434,\n",
    "#         'l2_leaf_reg':       7.475812134744556,\n",
    "#         'min_data_in_leaf':  59,\n",
    "#         'scale_pos_weight':  4.254188566545996,\n",
    "#         'subsample':         0.6016652239201599\n",
    "#     }\n",
    "    \n",
    "#     cb_scores = []\n",
    "#     cb_models = []\n",
    "#     oof_df = pd.DataFrame()\n",
    "#     cb_shap_values_list = []\n",
    "\n",
    "#     for fold in range(N_SPLITS):\n",
    "#         _df_train = df_train[df_train[\"fold\"] != fold].reset_index(drop=True)\n",
    "#         _df_valid = df_train[df_train[\"fold\"] == fold].reset_index(drop=True)\n",
    "\n",
    "#         # Train model\n",
    "        \n",
    "#         cb_model = Pipeline([\n",
    "#             ('sampler', RandomUnderSampler(sampling_strategy=sampling_ratio, random_state=seed)),\n",
    "#             ('classifier', cb.CatBoostClassifier(**cb_params)),\n",
    "#         ])\n",
    "#         cb_model.fit(_df_train[selected_features], _df_train[\"target\"])\n",
    "\n",
    "#         preds = cb_model.predict_proba(_df_valid[selected_features])[:, 1]\n",
    "#         score = comp_score(_df_valid[[\"target\"]], pd.DataFrame(preds, columns=[\"prediction\"]), \"\")\n",
    "#         print(f\"fold: {fold} - Partial AUC Score: {score:.5f}\")\n",
    "#         cb_models.append(cb_model)\n",
    "#         oof_single = _df_valid[[\"isic_id\", \"target\"]].copy()\n",
    "#         oof_single[\"pred\"] = preds\n",
    "#         oof_df = pd.concat([oof_df, oof_single])\n",
    "\n",
    "#         # SHAP values calculation for feature selection\n",
    "#         cb_model_step = cb_model.named_steps['classifier']  # Access the LightGBM model from the pipeline\n",
    "#         explainer = shap.TreeExplainer(cb_model_step)\n",
    "#         cb_shap_values = explainer.shap_values(_df_valid[selected_features])[1]\n",
    "#         cb_shap_values_list.append(cb_shap_values)\n",
    "    \n",
    "#     # Aggregate SHAP values across all folds\n",
    "#     shap_values_array = np.vstack(cb_shap_values_list)\n",
    "#     mean_abs_shap_values = np.mean(np.abs(shap_values_array), axis=0)\n",
    "    \n",
    "#     # Create a DataFrame to rank features\n",
    "#     shap_importance_df = pd.DataFrame({\n",
    "#         'feature': selected_features,\n",
    "#         'mean_abs_shap_value': mean_abs_shap_values\n",
    "#     }).sort_values(by='mean_abs_shap_value', ascending=False)\n",
    "    \n",
    "#     # Select top N features based on SHAP importance\n",
    "#     N_TOP_FEATURES = 75  # Define how many top features you want to select\n",
    "#     cb_selected_features = shap_importance_df['feature'].head(N_TOP_FEATURES).tolist()\n",
    "    \n",
    "#     print(f\"Selected top {N_TOP_FEATURES} features: {cb_selected_features}\")\n",
    "    \n",
    "#     # Save SHAP values list and selected features to files\n",
    "#     with open('cb_shap_values_list.pkl', 'wb') as f:\n",
    "#         pickle.dump(cb_shap_values_list, f)\n",
    "#     with open(f'cb_selected_features.pkl_{N_TOP_FEATURES}', 'wb') as f:\n",
    "#         pickle.dump(cb_selected_features, f)"
   ]
  },
  {
   "cell_type": "code",
   "execution_count": 24,
   "id": "788391b0",
   "metadata": {
    "execution": {
     "iopub.execute_input": "2024-09-05T20:14:05.374565Z",
     "iopub.status.busy": "2024-09-05T20:14:05.373815Z",
     "iopub.status.idle": "2024-09-05T20:14:05.381228Z",
     "shell.execute_reply": "2024-09-05T20:14:05.380147Z"
    },
    "papermill": {
     "duration": 0.118578,
     "end_time": "2024-09-05T20:14:05.383240",
     "exception": false,
     "start_time": "2024-09-05T20:14:05.264662",
     "status": "completed"
    },
    "tags": []
   },
   "outputs": [],
   "source": [
    "# if SHAP:\n",
    "    \n",
    "#     xgb_params = {\n",
    "#         'enable_categorical': True,\n",
    "#         'tree_method':        'hist',\n",
    "#         'random_state':       seed,\n",
    "#         'learning_rate':      0.042310779751030335, \n",
    "#         'lambda':             0.0002847007250281572, \n",
    "#         'alpha':              4.478266669867162e-08, \n",
    "#         'max_depth':          6, \n",
    "#         'subsample':          0.811997027872852, \n",
    "#         'min_child_weight':   6,\n",
    "#     #     'colsample_bytree':   0.8437772277074493, \n",
    "#     #     'colsample_bylevel':  0.5476090898823716, \n",
    "#     #     'colsample_bynode':   0.9928601203635129, \n",
    "#         'scale_pos_weight':   3.884899202547225,\n",
    "#     }\n",
    "\n",
    "\n",
    "#     xgb_scores = []\n",
    "#     xgb_models = []\n",
    "#     oof_df = pd.DataFrame()\n",
    "#     xgb_shap_values_list = []\n",
    "\n",
    "#     for fold in range(N_SPLITS):\n",
    "#         _df_train = df_train[df_train[\"fold\"] != fold].reset_index(drop=True)\n",
    "#         _df_valid = df_train[df_train[\"fold\"] == fold].reset_index(drop=True)\n",
    "\n",
    "#         # Train model\n",
    "        \n",
    "#         xgb_model = Pipeline([\n",
    "#         #     ('feature_selection', xgb_transformer),\n",
    "#             ('sampler', RandomUnderSampler(sampling_strategy=sampling_ratio, random_state=seed)),\n",
    "#             ('classifier', xgb.XGBClassifier(**xgb_params)),\n",
    "#         ])\n",
    "#         xgb_model.fit(_df_train[selected_features], _df_train[\"target\"])\n",
    "\n",
    "#         preds = xgb_model.predict_proba(_df_valid[selected_features])[:, 1]\n",
    "#         score = comp_score(_df_valid[[\"target\"]], pd.DataFrame(preds, columns=[\"prediction\"]), \"\")\n",
    "#         print(f\"fold: {fold} - Partial AUC Score: {score:.5f}\")\n",
    "#         xgb_models.append(xgb_model)\n",
    "#         oof_single = _df_valid[[\"isic_id\", \"target\"]].copy()\n",
    "#         oof_single[\"pred\"] = preds\n",
    "#         oof_df = pd.concat([oof_df, oof_single])\n",
    "\n",
    "#         # SHAP values calculation for feature selection\n",
    "#         xgb_model_step = xgb_model.named_steps['classifier']  # Access the LightGBM model from the pipeline\n",
    "#         explainer = shap.TreeExplainer(xgb_model_step)\n",
    "#         xgb_shap_values = explainer.shap_values(_df_valid[selected_features])[1]\n",
    "#         xgb_shap_values_list.append(xgb_shap_values)\n",
    "    \n",
    "#     # Aggregate SHAP values across all folds\n",
    "#     shap_values_array = np.vstack(xgb_shap_values_list)\n",
    "#     mean_abs_shap_values = np.mean(np.abs(shap_values_array), axis=0)\n",
    "    \n",
    "#     # Create a DataFrame to rank features\n",
    "#     shap_importance_df = pd.DataFrame({\n",
    "#         'feature': selected_features,\n",
    "#         'mean_abs_shap_value': mean_abs_shap_values\n",
    "#     }).sort_values(by='mean_abs_shap_value', ascending=False)\n",
    "    \n",
    "#     # Select top N features based on SHAP importance\n",
    "#     N_TOP_FEATURES = 75  # Define how many top features you want to select\n",
    "#     xgb_selected_features = shap_importance_df['feature'].head(N_TOP_FEATURES).tolist()\n",
    "    \n",
    "#     print(f\"Selected top {N_TOP_FEATURES} features: {xgb_selected_features}\")\n",
    "    \n",
    "#     # Save SHAP values list and selected features to files\n",
    "#     with open('xgb_shap_values_list.pkl', 'wb') as f:\n",
    "#         pickle.dump(xgb_shap_values_list, f)\n",
    "#     with open(f'xgb_selected_features.pkl_{N_TOP_FEATURES}', 'wb') as f:\n",
    "#         pickle.dump(xgb_selected_features, f)"
   ]
  },
  {
   "cell_type": "code",
   "execution_count": null,
   "id": "cb39b3d0",
   "metadata": {
    "papermill": {
     "duration": 0.10937,
     "end_time": "2024-09-05T20:14:05.601752",
     "exception": false,
     "start_time": "2024-09-05T20:14:05.492382",
     "status": "completed"
    },
    "tags": []
   },
   "outputs": [],
   "source": []
  }
 ],
 "metadata": {
  "kaggle": {
   "accelerator": "none",
   "dataSources": [
    {
     "databundleVersionId": 9094797,
     "sourceId": 63056,
     "sourceType": "competition"
    },
    {
     "datasetId": 5478143,
     "sourceId": 9080240,
     "sourceType": "datasetVersion"
    },
    {
     "datasetId": 5479911,
     "sourceId": 9082625,
     "sourceType": "datasetVersion"
    },
    {
     "datasetId": 5539954,
     "sourceId": 9168175,
     "sourceType": "datasetVersion"
    },
    {
     "datasetId": 5544008,
     "sourceId": 9173683,
     "sourceType": "datasetVersion"
    },
    {
     "datasetId": 5544233,
     "sourceId": 9174023,
     "sourceType": "datasetVersion"
    },
    {
     "datasetId": 5548811,
     "sourceId": 9180554,
     "sourceType": "datasetVersion"
    },
    {
     "sourceId": 190800207,
     "sourceType": "kernelVersion"
    },
    {
     "sourceId": 192108385,
     "sourceType": "kernelVersion"
    },
    {
     "sourceId": 192547280,
     "sourceType": "kernelVersion"
    },
    {
     "sourceId": 192778508,
     "sourceType": "kernelVersion"
    },
    {
     "sourceId": 192778555,
     "sourceType": "kernelVersion"
    },
    {
     "sourceId": 192781269,
     "sourceType": "kernelVersion"
    },
    {
     "sourceId": 192794247,
     "sourceType": "kernelVersion"
    }
   ],
   "dockerImageVersionId": 30746,
   "isGpuEnabled": false,
   "isInternetEnabled": false,
   "language": "python",
   "sourceType": "notebook"
  },
  "kernelspec": {
   "display_name": "Python 3",
   "language": "python",
   "name": "python3"
  },
  "language_info": {
   "codemirror_mode": {
    "name": "ipython",
    "version": 3
   },
   "file_extension": ".py",
   "mimetype": "text/x-python",
   "name": "python",
   "nbconvert_exporter": "python",
   "pygments_lexer": "ipython3",
   "version": "3.10.13"
  },
  "papermill": {
   "default_parameters": {},
   "duration": 8931.515008,
   "end_time": "2024-09-05T20:14:08.851204",
   "environment_variables": {},
   "exception": null,
   "input_path": "__notebook__.ipynb",
   "output_path": "__notebook__.ipynb",
   "parameters": {},
   "start_time": "2024-09-05T17:45:17.336196",
   "version": "2.5.0"
  }
 },
 "nbformat": 4,
 "nbformat_minor": 5
}
